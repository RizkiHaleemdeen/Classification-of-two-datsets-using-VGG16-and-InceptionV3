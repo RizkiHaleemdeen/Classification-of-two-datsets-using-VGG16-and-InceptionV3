{
  "nbformat": 4,
  "nbformat_minor": 0,
  "metadata": {
    "colab": {
      "name": "315_Bird_Classification_2.ipynb",
      "provenance": [],
      "collapsed_sections": [],
      "toc_visible": true
    },
    "kernelspec": {
      "name": "python3",
      "display_name": "Python 3"
    },
    "language_info": {
      "name": "python"
    }
  },
  "cells": [
    {
      "cell_type": "markdown",
      "metadata": {
        "id": "PVqzHdIoBI8M"
      },
      "source": [
        "# 315 Bird Images Classification\n"
      ]
    },
    {
      "cell_type": "markdown",
      "metadata": {
        "id": "jBcBn8ydUuNj"
      },
      "source": [
        "## Loading the Dataset"
      ]
    },
    {
      "cell_type": "code",
      "metadata": {
        "colab": {
          "base_uri": "https://localhost:8080/"
        },
        "id": "ilJeQgwjfqSX",
        "outputId": "42d73a1c-b523-40dc-bc12-416e34ab517b"
      },
      "source": [
        "pip install livelossplot"
      ],
      "execution_count": 2,
      "outputs": [
        {
          "output_type": "stream",
          "name": "stdout",
          "text": [
            "Collecting livelossplot\n",
            "  Downloading livelossplot-0.5.4-py3-none-any.whl (22 kB)\n",
            "Requirement already satisfied: matplotlib in /usr/local/lib/python3.7/dist-packages (from livelossplot) (3.2.2)\n",
            "Requirement already satisfied: bokeh in /usr/local/lib/python3.7/dist-packages (from livelossplot) (2.3.3)\n",
            "Requirement already satisfied: ipython in /usr/local/lib/python3.7/dist-packages (from livelossplot) (5.5.0)\n",
            "Requirement already satisfied: tornado>=5.1 in /usr/local/lib/python3.7/dist-packages (from bokeh->livelossplot) (5.1.1)\n",
            "Requirement already satisfied: pillow>=7.1.0 in /usr/local/lib/python3.7/dist-packages (from bokeh->livelossplot) (7.1.2)\n",
            "Requirement already satisfied: Jinja2>=2.9 in /usr/local/lib/python3.7/dist-packages (from bokeh->livelossplot) (2.11.3)\n",
            "Requirement already satisfied: typing-extensions>=3.7.4 in /usr/local/lib/python3.7/dist-packages (from bokeh->livelossplot) (3.10.0.2)\n",
            "Requirement already satisfied: numpy>=1.11.3 in /usr/local/lib/python3.7/dist-packages (from bokeh->livelossplot) (1.19.5)\n",
            "Requirement already satisfied: PyYAML>=3.10 in /usr/local/lib/python3.7/dist-packages (from bokeh->livelossplot) (3.13)\n",
            "Requirement already satisfied: python-dateutil>=2.1 in /usr/local/lib/python3.7/dist-packages (from bokeh->livelossplot) (2.8.2)\n",
            "Requirement already satisfied: packaging>=16.8 in /usr/local/lib/python3.7/dist-packages (from bokeh->livelossplot) (21.3)\n",
            "Requirement already satisfied: MarkupSafe>=0.23 in /usr/local/lib/python3.7/dist-packages (from Jinja2>=2.9->bokeh->livelossplot) (2.0.1)\n",
            "Requirement already satisfied: pyparsing!=3.0.5,>=2.0.2 in /usr/local/lib/python3.7/dist-packages (from packaging>=16.8->bokeh->livelossplot) (3.0.6)\n",
            "Requirement already satisfied: six>=1.5 in /usr/local/lib/python3.7/dist-packages (from python-dateutil>=2.1->bokeh->livelossplot) (1.15.0)\n",
            "Requirement already satisfied: decorator in /usr/local/lib/python3.7/dist-packages (from ipython->livelossplot) (4.4.2)\n",
            "Requirement already satisfied: simplegeneric>0.8 in /usr/local/lib/python3.7/dist-packages (from ipython->livelossplot) (0.8.1)\n",
            "Requirement already satisfied: pexpect in /usr/local/lib/python3.7/dist-packages (from ipython->livelossplot) (4.8.0)\n",
            "Requirement already satisfied: prompt-toolkit<2.0.0,>=1.0.4 in /usr/local/lib/python3.7/dist-packages (from ipython->livelossplot) (1.0.18)\n",
            "Requirement already satisfied: pickleshare in /usr/local/lib/python3.7/dist-packages (from ipython->livelossplot) (0.7.5)\n",
            "Requirement already satisfied: traitlets>=4.2 in /usr/local/lib/python3.7/dist-packages (from ipython->livelossplot) (5.1.1)\n",
            "Requirement already satisfied: pygments in /usr/local/lib/python3.7/dist-packages (from ipython->livelossplot) (2.6.1)\n",
            "Requirement already satisfied: setuptools>=18.5 in /usr/local/lib/python3.7/dist-packages (from ipython->livelossplot) (57.4.0)\n",
            "Requirement already satisfied: wcwidth in /usr/local/lib/python3.7/dist-packages (from prompt-toolkit<2.0.0,>=1.0.4->ipython->livelossplot) (0.2.5)\n",
            "Requirement already satisfied: kiwisolver>=1.0.1 in /usr/local/lib/python3.7/dist-packages (from matplotlib->livelossplot) (1.3.2)\n",
            "Requirement already satisfied: cycler>=0.10 in /usr/local/lib/python3.7/dist-packages (from matplotlib->livelossplot) (0.11.0)\n",
            "Requirement already satisfied: ptyprocess>=0.5 in /usr/local/lib/python3.7/dist-packages (from pexpect->ipython->livelossplot) (0.7.0)\n",
            "Installing collected packages: livelossplot\n",
            "Successfully installed livelossplot-0.5.4\n"
          ]
        }
      ]
    },
    {
      "cell_type": "code",
      "metadata": {
        "colab": {
          "base_uri": "https://localhost:8080/"
        },
        "id": "n47CcQmaXep2",
        "outputId": "22b8842e-7fd2-4916-dec8-898b51048587"
      },
      "source": [
        "#Getting Data from the google drive\n",
        "\n",
        "from google.colab import drive\n",
        "drive.mount('/content/gdrive')"
      ],
      "execution_count": 3,
      "outputs": [
        {
          "output_type": "stream",
          "name": "stdout",
          "text": [
            "Mounted at /content/gdrive\n"
          ]
        }
      ]
    },
    {
      "cell_type": "code",
      "metadata": {
        "colab": {
          "base_uri": "https://localhost:8080/"
        },
        "id": "QGh8duZlXaAs",
        "outputId": "1a4b7556-996d-44e8-8a73-f780e9ebc0a7"
      },
      "source": [
        "#Extracting data from the zip file\n",
        "\n",
        "from zipfile import ZipFile\n",
        "file_name = '/content/gdrive/MyDrive/Colab Notebooks/315_Birds_Species.zip'\n",
        "\n",
        "with ZipFile(file_name, 'r') as zip:\n",
        "    # printing all the contents of the zip file\n",
        "    #zip.printdir()\n",
        "  \n",
        "    # extracting all the files\n",
        "    print('Extracting all the files now...')\n",
        "    zip.extractall()\n",
        "    print('Done!')"
      ],
      "execution_count": 4,
      "outputs": [
        {
          "output_type": "stream",
          "name": "stdout",
          "text": [
            "Extracting all the files now...\n",
            "Done!\n"
          ]
        }
      ]
    },
    {
      "cell_type": "code",
      "metadata": {
        "id": "RkVuEll6XD6O"
      },
      "source": [
        "#Importing Libraries\n",
        "import cv2\n",
        "import numpy as np\n",
        "import pandas as pd\n",
        "import os\n",
        "import matplotlib.pyplot as plt\n",
        "import tensorflow as tf \n",
        "from datetime import datetime\n",
        "from tensorflow.keras.preprocessing.image import ImageDataGenerator\n",
        "from tensorflow.keras import layers, Model\n",
        "from keras.applications.vgg16 import VGG16\n",
        "from keras.utils.vis_utils import plot_model\n",
        "from keras.callbacks import ModelCheckpoint,EarlyStopping\n",
        "#from livelossplot.inputs.keras import PlotLossesCallback\n",
        "\n",
        "#Importing Models\n",
        "from tensorflow.keras.applications.vgg16 import VGG16"
      ],
      "execution_count": 5,
      "outputs": []
    },
    {
      "cell_type": "code",
      "metadata": {
        "id": "EwBjDcz0djN0"
      },
      "source": [
        "path_train='train'\n",
        "path_test='test'\n",
        "path_valid='valid'\n",
        "\n",
        "images_train=[]\n",
        "images_test=[]\n",
        "images_valid=[]\n",
        "ytest=[]\n",
        "yvalid=[]\n",
        "yvalid2=[]\n",
        "val1=0\n",
        "val2=0\n",
        "val3=0\n",
        "\n",
        "for folder in os.listdir(path_train):\n",
        "    if folder!=\".DS_Store\":\n",
        "        for file in os.listdir(os.path.join(path_train,folder)):\n",
        "                images_train.append(os.path.join(path_train, os.path.join(folder,file)))\n",
        "np.random.shuffle(images_train)\n",
        "\n",
        "for folder in os.listdir(path_test):\n",
        "    if folder!=\".DS_Store\":\n",
        "        for file in os.listdir(os.path.join(path_test,folder)):\n",
        "                ytest.append(val1)\n",
        "                images_test.append(os.path.join(path_test, os.path.join(folder,file)))\n",
        "    val1=val1+1\n",
        "\n",
        "yvalid=np.zeros((1575,315))\n",
        "for folder in os.listdir(path_valid):\n",
        "    if folder!=\".DS_Store\":\n",
        "        for file in os.listdir(os.path.join(path_valid,folder)):\n",
        "                yvalid[val2,val3]=1\n",
        "                yvalid2.append(val3)\n",
        "                images_valid.append(os.path.join(path_valid, os.path.join(folder,file)))\n",
        "                val2=val2+1\n",
        "    val3=val3+1   "
      ],
      "execution_count": 36,
      "outputs": []
    },
    {
      "cell_type": "code",
      "metadata": {
        "id": "598nhE55oOTg"
      },
      "source": [
        "# yvalid=np.zeros((1575,314))\n",
        "# yvalid[0,0]=1\n",
        "# print(yvalid)"
      ],
      "execution_count": 21,
      "outputs": []
    },
    {
      "cell_type": "markdown",
      "metadata": {
        "id": "2YeVLeBSC_hh"
      },
      "source": [
        "## Data Augmentation and Generation"
      ]
    },
    {
      "cell_type": "code",
      "metadata": {
        "id": "iR6upEgQXI_c"
      },
      "source": [
        "def data_aug(bsize,path_train,path_test):\n",
        "  #Defining different types of geometries\n",
        "  train_datagen = ImageDataGenerator(rescale = 1./255., rotation_range = 40, width_shift_range = 0.2, height_shift_range = 0.2, shear_range = 0.2, zoom_range = 0.2, horizontal_flip = True)\n",
        "  test_datagen = ImageDataGenerator(rescale = 1.0/255.)\n",
        "\n",
        "  #Generating images\n",
        "  train_generator = train_datagen.flow_from_directory(path_train, batch_size = bsize, class_mode = 'categorical', target_size = (224, 224))\n",
        "  test_generator = test_datagen.flow_from_directory(path_test, batch_size = bsize, class_mode = 'categorical', target_size = (224, 224))\n",
        "  return train_generator,test_generator\n"
      ],
      "execution_count": 7,
      "outputs": []
    },
    {
      "cell_type": "markdown",
      "metadata": {
        "id": "xtztIsHNNIGJ"
      },
      "source": [
        "## Call Back Parameters"
      ]
    },
    {
      "cell_type": "code",
      "metadata": {
        "id": "kknkWtpWNXYi"
      },
      "source": [
        "# ModelCheckpoint callback - save best weights\n",
        "tl_checkpoint_1 = ModelCheckpoint(filepath=\"gdrive/MyDrive/Colab Notebooks\",\n",
        "                                  save_best_only=True,\n",
        "                                  verbose=1)\n",
        "\n",
        "# EarlyStopping\n",
        "early_stop = EarlyStopping(monitor='val_loss',\n",
        "                           patience=10,\n",
        "                           restore_best_weights=True,\n",
        "                           mode='min')\n",
        "\n",
        "# ModelCheckpoint callback - save best weights\n",
        "tl_checkpoint_2 = ModelCheckpoint(filepath=\"gdrive/MyDrive/Colab Notebooks\",\n",
        "                                  save_best_only=True,\n",
        "                                  verbose=1)\n",
        "\n",
        "# EarlyStopping\n",
        "early_stop2 = EarlyStopping(monitor='val_loss',\n",
        "                           patience=10,\n",
        "                           restore_best_weights=True,\n",
        "                           mode='min')"
      ],
      "execution_count": 8,
      "outputs": []
    },
    {
      "cell_type": "markdown",
      "metadata": {
        "id": "UOxExLstGG9o"
      },
      "source": [
        "# Model01- VGG16"
      ]
    },
    {
      "cell_type": "markdown",
      "metadata": {
        "id": "PaTqTstaTXF1"
      },
      "source": [
        "## Loading the Pre trained Data"
      ]
    },
    {
      "cell_type": "code",
      "metadata": {
        "id": "7xTKG7yLXvM5",
        "colab": {
          "base_uri": "https://localhost:8080/"
        },
        "outputId": "6bf6e945-1a7a-4f78-e0af-1d7887074082"
      },
      "source": [
        "#Loading the pretrained model\n",
        "base_model = VGG16(input_shape = (224, 224, 3), # Shape of our images\n",
        "include_top = False, # Leave out the last fully connected layer\n",
        "weights = 'imagenet')"
      ],
      "execution_count": 8,
      "outputs": [
        {
          "output_type": "stream",
          "name": "stdout",
          "text": [
            "Downloading data from https://storage.googleapis.com/tensorflow/keras-applications/vgg16/vgg16_weights_tf_dim_ordering_tf_kernels_notop.h5\n",
            "58892288/58889256 [==============================] - 1s 0us/step\n",
            "58900480/58889256 [==============================] - 1s 0us/step\n"
          ]
        }
      ]
    },
    {
      "cell_type": "markdown",
      "metadata": {
        "id": "ENQ6wb55TqJb"
      },
      "source": [
        "## Defining the non training layers"
      ]
    },
    {
      "cell_type": "code",
      "metadata": {
        "id": "38iH6cZYYJOz"
      },
      "source": [
        "#Setting the layers not being trained as false\n",
        "for layer in base_model.layers:\n",
        "  layer.trainable = False"
      ],
      "execution_count": 14,
      "outputs": []
    },
    {
      "cell_type": "markdown",
      "metadata": {
        "id": "Q4iXmn_KT0AQ"
      },
      "source": [
        "## Adding additional layers"
      ]
    },
    {
      "cell_type": "code",
      "metadata": {
        "id": "VjGVRmIHYOyn"
      },
      "source": [
        "#Defining the end layers\n",
        "# Flatten the output layer to 1 dimension\n",
        "x = layers.Flatten()(base_model.output)\n",
        "# Add a final sigmoid layer with 1 node for classification output\n",
        "x = layers.Dense(315,activation='softmax')(x)"
      ],
      "execution_count": 15,
      "outputs": []
    },
    {
      "cell_type": "markdown",
      "metadata": {
        "id": "ixQdXT6DUGZQ"
      },
      "source": [
        "## Compiling the model"
      ]
    },
    {
      "cell_type": "code",
      "metadata": {
        "colab": {
          "base_uri": "https://localhost:8080/"
        },
        "id": "un0oJvvBT-xi",
        "outputId": "5d026358-5a28-4785-95a5-01eafa7f0577"
      },
      "source": [
        "#Compiling the model and defining the optimizer,loss function and the accuracy metrics\n",
        "vggmodel = tf.keras.models.Model(base_model.input, x)\n",
        "print(vggmodel.summary())\n",
        "vggmodel.compile(optimizer = tf.keras.optimizers.Adam(learning_rate=0.01), loss = 'categorical_crossentropy',metrics = ['acc'])"
      ],
      "execution_count": 16,
      "outputs": [
        {
          "output_type": "stream",
          "name": "stdout",
          "text": [
            "Model: \"model\"\n",
            "_________________________________________________________________\n",
            " Layer (type)                Output Shape              Param #   \n",
            "=================================================================\n",
            " input_2 (InputLayer)        [(None, 224, 224, 3)]     0         \n",
            "                                                                 \n",
            " block1_conv1 (Conv2D)       (None, 224, 224, 64)      1792      \n",
            "                                                                 \n",
            " block1_conv2 (Conv2D)       (None, 224, 224, 64)      36928     \n",
            "                                                                 \n",
            " block1_pool (MaxPooling2D)  (None, 112, 112, 64)      0         \n",
            "                                                                 \n",
            " block2_conv1 (Conv2D)       (None, 112, 112, 128)     73856     \n",
            "                                                                 \n",
            " block2_conv2 (Conv2D)       (None, 112, 112, 128)     147584    \n",
            "                                                                 \n",
            " block2_pool (MaxPooling2D)  (None, 56, 56, 128)       0         \n",
            "                                                                 \n",
            " block3_conv1 (Conv2D)       (None, 56, 56, 256)       295168    \n",
            "                                                                 \n",
            " block3_conv2 (Conv2D)       (None, 56, 56, 256)       590080    \n",
            "                                                                 \n",
            " block3_conv3 (Conv2D)       (None, 56, 56, 256)       590080    \n",
            "                                                                 \n",
            " block3_pool (MaxPooling2D)  (None, 28, 28, 256)       0         \n",
            "                                                                 \n",
            " block4_conv1 (Conv2D)       (None, 28, 28, 512)       1180160   \n",
            "                                                                 \n",
            " block4_conv2 (Conv2D)       (None, 28, 28, 512)       2359808   \n",
            "                                                                 \n",
            " block4_conv3 (Conv2D)       (None, 28, 28, 512)       2359808   \n",
            "                                                                 \n",
            " block4_pool (MaxPooling2D)  (None, 14, 14, 512)       0         \n",
            "                                                                 \n",
            " block5_conv1 (Conv2D)       (None, 14, 14, 512)       2359808   \n",
            "                                                                 \n",
            " block5_conv2 (Conv2D)       (None, 14, 14, 512)       2359808   \n",
            "                                                                 \n",
            " block5_conv3 (Conv2D)       (None, 14, 14, 512)       2359808   \n",
            "                                                                 \n",
            " block5_pool (MaxPooling2D)  (None, 7, 7, 512)         0         \n",
            "                                                                 \n",
            " flatten_1 (Flatten)         (None, 25088)             0         \n",
            "                                                                 \n",
            " dense_1 (Dense)             (None, 315)               7903035   \n",
            "                                                                 \n",
            "=================================================================\n",
            "Total params: 22,617,723\n",
            "Trainable params: 7,903,035\n",
            "Non-trainable params: 14,714,688\n",
            "_________________________________________________________________\n",
            "None\n"
          ]
        }
      ]
    },
    {
      "cell_type": "markdown",
      "metadata": {
        "id": "-ZOADtP1UVkI"
      },
      "source": [
        "## Fitting the Model"
      ]
    },
    {
      "cell_type": "code",
      "metadata": {
        "colab": {
          "base_uri": "https://localhost:8080/",
          "height": 721
        },
        "id": "dr_1Kk13Ybn9",
        "outputId": "f677a47a-05d0-4588-86cb-c63c808c5b0c"
      },
      "source": [
        "print('\\nDataset Details')\n",
        "bsize=256\n",
        "train_vgg,test_vgg=data_aug(bsize,path_train,path_test)\n",
        "print('\\nTraining VGG 16 model')\n",
        "#Getting the time\n",
        "start_vgg=datetime.now()\n",
        "#Accuracy and loss plot\n",
        "plot_loss_1 = PlotLossesCallback()\n",
        "\n",
        "# vgghist=vggmodel.fit(train_vgg, \n",
        "#                   validation_data = test_vgg, \n",
        "#                   steps_per_epoch = 10, \n",
        "#                   epochs = 40,\n",
        "#                   # validation_steps=1,\n",
        "#                   callbacks=[tl_checkpoint_1, early_stop,plot_loss_1],\n",
        "#                   verbose=1)\n",
        "# end_vgg=datetime.now()\n",
        "# print('Duration for VGG16: {}'.format(end_vgg-start_vgg))"
      ],
      "execution_count": 31,
      "outputs": [
        {
          "output_type": "display_data",
          "data": {
            "image/png": "[encoded data removed]",
            "text/plain": [
              "<Figure size 864x576 with 2 Axes>"
            ]
          },
          "metadata": {
            "needs_background": "light"
          }
        },
        {
          "output_type": "stream",
          "name": "stdout",
          "text": [
            "Accuracy\n",
            "\ttraining         \t (min:    0.018, max:    0.391, cur:    0.391)\n",
            "\tvalidation       \t (min:    0.013, max:    0.599, cur:    0.599)\n",
            "Loss\n",
            "\ttraining         \t (min:   12.256, max:  110.879, cur:   12.900)\n",
            "\tvalidation       \t (min:    7.018, max:  106.901, cur:    7.666)\n",
            "\b\b\b\b\b\b\b\b\b\b\b\b\b\b\b\b\b\b\b\b\b\b\b\b\b\b\b\b\b\b\b\b\b\b\b\b\b\b\b\b\b\b\b\b\b\b\b\b\b\b\b\b\b\b\b\b\b\b\b\b\b\b\b\b\b\b\b\b\b\b\b\b\b\b\b\b\b\b\r10/10 [==============================] - 51s 5s/step - loss: 12.9002 - acc: 0.3906 - val_loss: 7.6659 - val_acc: 0.5994\n",
            "Duration for VGG16: 0:41:53.933509\n"
          ]
        }
      ]
    },
    {
      "cell_type": "code",
      "metadata": {
        "colab": {
          "base_uri": "https://localhost:8080/"
        },
        "id": "Rr-Ex80wInYW",
        "outputId": "5e490791-663b-4ea4-d674-138dcc17db50"
      },
      "source": [
        "# import joblib\n",
        "# f1= 'gdrive/MyDrive/Colab Notebooks/VGG.sav'\n",
        "# joblib.dump(vggmodel,f1)"
      ],
      "execution_count": 32,
      "outputs": [
        {
          "output_type": "stream",
          "name": "stdout",
          "text": [
            "INFO:tensorflow:Assets written to: ram://5bb65aeb-41e8-4381-b660-a02eb578ef5c/assets\n"
          ]
        },
        {
          "output_type": "execute_result",
          "data": {
            "text/plain": [
              "['gdrive/MyDrive/Colab Notebooks/VGG.sav']"
            ]
          },
          "metadata": {},
          "execution_count": 32
        }
      ]
    },
    {
      "cell_type": "markdown",
      "metadata": {
        "id": "mwLgrRcvy5iM"
      },
      "source": [
        "# Model02- InceptionV3"
      ]
    },
    {
      "cell_type": "markdown",
      "metadata": {
        "id": "gDYFgE2fJbxX"
      },
      "source": [
        "## Loading Pre trained Data"
      ]
    },
    {
      "cell_type": "code",
      "metadata": {
        "id": "8bw9tdvmjPz0",
        "colab": {
          "base_uri": "https://localhost:8080/"
        },
        "outputId": "68093ff4-a809-431e-f9d3-217c5dd884c1"
      },
      "source": [
        "from tensorflow.keras.applications.inception_v3 import InceptionV3\n",
        "base_model_incep = InceptionV3(input_shape = (224, 224, 3), include_top = False, weights = 'imagenet')"
      ],
      "execution_count": 10,
      "outputs": [
        {
          "output_type": "stream",
          "name": "stdout",
          "text": [
            "Downloading data from https://storage.googleapis.com/tensorflow/keras-applications/inception_v3/inception_v3_weights_tf_dim_ordering_tf_kernels_notop.h5\n",
            "87916544/87910968 [==============================] - 1s 0us/step\n",
            "87924736/87910968 [==============================] - 1s 0us/step\n"
          ]
        }
      ]
    },
    {
      "cell_type": "markdown",
      "metadata": {
        "id": "UHlDKrA-Joqa"
      },
      "source": [
        "## Defining non training layers"
      ]
    },
    {
      "cell_type": "code",
      "metadata": {
        "id": "3vx2WTtF_vnY"
      },
      "source": [
        "for layer in base_model_incep.layers:\n",
        "  layer.trainable = False"
      ],
      "execution_count": 11,
      "outputs": []
    },
    {
      "cell_type": "markdown",
      "metadata": {
        "id": "_JliebSPJyzv"
      },
      "source": [
        "## Adding additional layers and compiling model"
      ]
    },
    {
      "cell_type": "code",
      "metadata": {
        "id": "qm7eRJom_yhD"
      },
      "source": [
        "from tensorflow.keras.optimizers import RMSprop,Adam\n",
        "from tensorflow.keras import layers, Model\n",
        "\n",
        "# Flatten the output layer to 1 dimension\n",
        "x1 = layers.Flatten()(base_model_incep.output)\n",
        "# Add a final sigmoid layer with 1 node for classification output\n",
        "x1 = layers.Dense(315,activation='softmax')(x1)\n",
        "\n",
        "#Compiling the model\n",
        "modelv3= tf.keras.models.Model(base_model_incep.input, x1)\n",
        "#print(modelv3.summary())\n",
        "modelv3.compile(optimizer = RMSprop(learning_rate=0.01), loss = 'binary_crossentropy', metrics = ['acc'])"
      ],
      "execution_count": 25,
      "outputs": []
    },
    {
      "cell_type": "markdown",
      "metadata": {
        "id": "jbEKE0QPKChw"
      },
      "source": [
        "## Fitting the model"
      ]
    },
    {
      "cell_type": "code",
      "metadata": {
        "colab": {
          "base_uri": "https://localhost:8080/",
          "height": 741
        },
        "id": "YSuTkemm_30o",
        "outputId": "1695c906-fc00-4cc4-e16d-ca1565821ca1"
      },
      "source": [
        "print('\\nDataset Details')\n",
        "bsize=32\n",
        "train_v3,test_v3=data_aug(bsize,path_train,path_test)\n",
        "\n",
        "\n",
        "print('\\nTraining Inception V3 model')\n",
        "#Calculating Time\n",
        "start_v3=datetime.now()\n",
        "\n",
        "#Accuracy and loss plot\n",
        "plot_loss_2 = PlotLossesCallback()\n",
        "\n",
        "# inc_history = modelv3.fit(train_v3, \n",
        "#                         validation_data = test_v3, \n",
        "#                         steps_per_epoch = 100, \n",
        "#                         epochs = 30,\n",
        "#                         callbacks=[tl_checkpoint_2, early_stop2,plot_loss_2],\n",
        "#                         verbose=1)\n",
        "# end_v3=datetime.now()\n",
        "# print('Duration for inceptionV3: {}'.format(end_v3-start_v3))"
      ],
      "execution_count": 26,
      "outputs": [
        {
          "output_type": "display_data",
          "data": {
            "image/png": "[encoded data removed]",
            "text/plain": [
              "<Figure size 864x576 with 2 Axes>"
            ]
          },
          "metadata": {
            "needs_background": "light"
          }
        },
        {
          "output_type": "stream",
          "name": "stdout",
          "text": [
            "Accuracy\n",
            "\ttraining         \t (min:    0.039, max:    0.620, cur:    0.620)\n",
            "\tvalidation       \t (min:    0.116, max:    0.801, cur:    0.777)\n",
            "Loss\n",
            "\ttraining         \t (min:    0.551, max:    1.864, cur:    0.564)\n",
            "\tvalidation       \t (min:    0.253, max:    0.988, cur:    0.296)\n",
            "\b\b\b\b\b\b\b\b\b\b\b\b\b\b\b\b\b\b\b\b\b\b\b\b\b\b\b\b\b\b\b\b\b\b\b\b\b\b\b\b\b\b\b\b\b\b\b\b\b\b\b\b\b\b\b\b\b\b\b\b\b\b\b\b\b\b\b\b\b\b\b\b\b\b\b\b\b\b\b\r100/100 [==============================] - 52s 517ms/step - loss: 0.5642 - acc: 0.6200 - val_loss: 0.2962 - val_acc: 0.7765\n",
            "Duration for inceptionV3: 0:43:41.758994\n"
          ]
        }
      ]
    },
    {
      "cell_type": "code",
      "metadata": {
        "colab": {
          "base_uri": "https://localhost:8080/"
        },
        "id": "YQliHZKtJWEY",
        "outputId": "746498ee-1a59-4870-a296-ed5bbd35337d"
      },
      "source": [
        "# f2= 'gdrive/MyDrive/Colab Notebooks/V3.sav'\n",
        "# joblib.dump(modelv3,f2)"
      ],
      "execution_count": 27,
      "outputs": [
        {
          "output_type": "stream",
          "name": "stdout",
          "text": [
            "INFO:tensorflow:Assets written to: ram://d30a75da-118d-4e14-8d04-26407b03adc3/assets\n"
          ]
        },
        {
          "output_type": "execute_result",
          "data": {
            "text/plain": [
              "['gdrive/MyDrive/Colab Notebooks/V3.sav']"
            ]
          },
          "metadata": {},
          "execution_count": 27
        }
      ]
    },
    {
      "cell_type": "markdown",
      "metadata": {
        "id": "rcna-7IXN6SX"
      },
      "source": [
        "# Performance comparison between VGG16 & InceptionV3"
      ]
    },
    {
      "cell_type": "markdown",
      "metadata": {
        "id": "NSCoUoUiKdy-"
      },
      "source": [
        "## Loading the Saved Models"
      ]
    },
    {
      "cell_type": "code",
      "metadata": {
        "id": "GCQbogxFovCA"
      },
      "source": [
        "import joblib\n",
        "Vggmodel1=joblib.load('gdrive/MyDrive/Colab Notebooks/VGG.sav')\n",
        "V3model1=joblib.load('gdrive/MyDrive/Colab Notebooks/V3.sav')"
      ],
      "execution_count": 9,
      "outputs": []
    },
    {
      "cell_type": "markdown",
      "metadata": {
        "id": "uv0PM1caviF2"
      },
      "source": [
        "## Reading the images"
      ]
    },
    {
      "cell_type": "code",
      "metadata": {
        "id": "Y4vReYgzyWxB"
      },
      "source": [
        "import tensorflow as tf\n",
        "import keras\n",
        "from skimage import io\n",
        "from matplotlib import pyplot as plt\n",
        "\n",
        "def show(img):\n",
        "    io.imshow(img)\n",
        "    plt.show()\n",
        "\n",
        "def readImage(img_path):\n",
        "    img = cv2.imread(img_path)\n",
        "    return img"
      ],
      "execution_count": 27,
      "outputs": []
    },
    {
      "cell_type": "code",
      "metadata": {
        "id": "7zPGd7P_AsB1"
      },
      "source": [
        "img=[]\n",
        "for images in images_test:\n",
        "  img1=readImage(images)\n",
        "  img.append(img1)"
      ],
      "execution_count": 24,
      "outputs": []
    },
    {
      "cell_type": "code",
      "metadata": {
        "id": "AwSjHCt7_beo"
      },
      "source": [
        "lossv3, accv3 = V3model1.evaluate(np.array(img), yvalid)"
      ],
      "execution_count": 28,
      "outputs": []
    },
    {
      "cell_type": "markdown",
      "metadata": {
        "id": "obNRVt7IpJv-"
      },
      "source": [
        "## Passing Validattion set images into models"
      ]
    },
    {
      "cell_type": "code",
      "metadata": {
        "id": "Ttu_y9vRALx4"
      },
      "source": [
        "from keras.preprocessing.image import load_img\n",
        "from keras.preprocessing.image import img_to_array\n",
        "from keras.applications.vgg16 import preprocess_input\n",
        "import joblib\n",
        "\n",
        "# Vggmodel1=joblib.load('gdrive/MyDrive/Colab Notebooks/VGG.sav')\n",
        "# V3model1=joblib.load('gdrive/MyDrive/Colab Notebooks/V3.sav')\n",
        "\n",
        "yhatvgg=[]\n",
        "yhatv3=[]\n",
        "for img in images_valid:\n",
        "  # load an image from file\n",
        "  image = load_img(images_valid[1], target_size=(224, 224))\n",
        "\n",
        "  # convert the image pixels to a numpy array\n",
        "  image = img_to_array(image)\n",
        "  # reshape data for the model\n",
        "  image = image.reshape((1, image.shape[0], image.shape[1], image.shape[2]))\n",
        "\n",
        "  # prepare the image for the VGG model\n",
        "  image = preprocess_input(image)\n",
        "\n",
        "  # predict the probability across all output classes\n",
        "  yhat1 = Vggmodel1.predict(image)\n",
        "  yhat2 = V3model1.predict(image)\n",
        "\n",
        "  index1 = np.where(yhat1==1)\n",
        "  index2 = np.where(yhat2==1)\n",
        "\n",
        "  yhatvgg.append(index1[1])\n",
        "  yhatv3.append(index2[1])\n",
        "\n",
        "#print(index[1])"
      ],
      "execution_count": 32,
      "outputs": []
    },
    {
      "cell_type": "markdown",
      "metadata": {
        "id": "sdbK13nuUwT9"
      },
      "source": [
        "## Classified and Missclassified Examples"
      ]
    },
    {
      "cell_type": "code",
      "metadata": {
        "id": "r4pGsGZxMbly"
      },
      "source": [
        "# import cv2\n",
        "# from skimage import io, data, exposure, morphology\n",
        "\n",
        "# vgg_mismatch=[]\n",
        "# vgg_match=[]\n",
        "# count=0\n",
        "# for i in yhatvgg:\n",
        "#     if i!=yvalid2[count]:\n",
        "#         vgg_mismatch.append(count)\n",
        "#     else:\n",
        "#         vgg_match.append(count)\n",
        "#     count=count+1\n",
        "# # print(len(vgg_mismatch))\n",
        "# # print(len(vgg_match))\n",
        "\n",
        "\n",
        "# #Correctly Classified\n",
        "# print('Some correctly classified images for Object Classification using VGG16')\n",
        "# print('\\nClassified as '+str(Index[yhatvgg[svm_match[1]]]))\n",
        "# img1=readImage(images_test[svm_match[1]])\n",
        "# show(img1)\n",
        "# print('\\nClassified as '+str(Index[yhatvgg[svm_match[434]]]))\n",
        "# img3=readImage(images_test[svm_match[434]])\n",
        "# show(img3)\n",
        "\n",
        "# #Not Correctly Classified\n",
        "# print('Some Missclassified images for Object Classification using VGG16')\n",
        "# print('\\nClassified as '+str(Index[yhatvgg[svm_mismatch[0]]]))\n",
        "# img5=readImage(images_test[svm_mismatch[0]])\n",
        "# show(img5)\n",
        "# print('\\nClassified as '+str(Index[yhatvgg[svm_mismatch[100]]]))\n",
        "# img7=readImage(images_test[svm_mismatch[100]])\n",
        "# show(img7)"
      ],
      "execution_count": 38,
      "outputs": []
    },
    {
      "cell_type": "code",
      "metadata": {
        "id": "5wgmWml_U_Jt"
      },
      "source": [
        "# v3_mismatch=[]\n",
        "# v3_match=[]\n",
        "# count=0\n",
        "# for i in yhatv3:\n",
        "#     if i!=y[count]:\n",
        "#         v3_mismatch.append(count)\n",
        "#     else:\n",
        "#         v3_match.append(count)\n",
        "#     count=count+1\n",
        "# print(len(v3_mismatch))\n",
        "# print(len(v3_match))\n",
        "\n",
        "# #Correctly Classified\n",
        "# print('Some correctly classified images for Object Classification using InceptionV3')\n",
        "# print('\\nClassified as '+str(Index[yhatv3[v3_match[1]]]))\n",
        "# img2=readImage(images_test[v3_match[1]])\n",
        "# show(img2)\n",
        "# print('\\nClassified as '+str(Index[yhatv3[v3_match[342]]]))\n",
        "# img4=readImage(images_test[v3_match[342]])\n",
        "# show(img4)\n",
        "\n",
        "# #Not Correctly Classified\n",
        "# print('Some Missclassified images for Object Classification using InceptionV3')\n",
        "# print('\\nClassified as '+str(Index[yhatv3[v3_mismatch[0]]]))\n",
        "# img6=readImage(images_test[v3_mismatch[0]])\n",
        "# show(img6)\n",
        "# print('\\nClassified as '+str(Index[yhatv3[v3_mismatch[100]]]))\n",
        "# img7=readImage(images_test[v3_mismatch[100]])\n",
        "# show(img7)"
      ],
      "execution_count": 39,
      "outputs": []
    },
    {
      "cell_type": "markdown",
      "metadata": {
        "id": "WVFBS9onKq6l"
      },
      "source": [
        "## Confusion Matrix"
      ]
    },
    {
      "cell_type": "code",
      "metadata": {
        "id": "TDU2ZSfkOhM-"
      },
      "source": [
        "# from sklearn.metrics import classification_report, confusion_matrix, accuracy_score,ConfusionMatrixDisplay\n",
        "# #Printing Duration\n",
        "# print('Duration for Training VGG16 Model: {}'.format(end_vgg-start_vgg))\n",
        "# print('Duration for Training InceptionV3 Model: {}\\n'.format(end_v3-start_v3))\n",
        "\n",
        "# #Printing the Accuracy\n",
        "# print(\"Accuracy for VGG16 Model: \"+str(accuracy_score(y, yhatvgg)))\n",
        "# print(\"Accuracy for Inception Model: \"+str(accuracy_score(y, yhatv3)))\n",
        "# print('\\n')\n",
        "\n",
        "# f, axes = plt.subplots(1, 2, figsize=(20, 5), sharey='row')\n",
        "# Index= ['Normal','Pneumonia']\n",
        "\n",
        "# #Confusion matrix for VGG model\n",
        "# cf_matrix1 = confusion_matrix(y, yhatvgg)\n",
        "# disp = ConfusionMatrixDisplay(cf_matrix1,display_labels=Index)\n",
        "# disp.plot(ax=axes[0], xticks_rotation=45)\n",
        "# disp.ax_.set_title(\"VGG 16- Xray Data Set\")\n",
        "# disp.im_.colorbar.remove()\n",
        "\n",
        "# #Confusion matrix for V3 model\n",
        "# cf_matrix1 = confusion_matrix(y, yhatv3)\n",
        "# disp = ConfusionMatrixDisplay(cf_matrix1,display_labels=Index)\n",
        "# disp.plot(ax=axes[1], xticks_rotation=45)\n",
        "# disp.ax_.set_title(\"InceptionV3- Xray Data Set\")\n",
        "# disp.im_.colorbar.remove()\n"
      ],
      "execution_count": 40,
      "outputs": []
    }
  ]
}