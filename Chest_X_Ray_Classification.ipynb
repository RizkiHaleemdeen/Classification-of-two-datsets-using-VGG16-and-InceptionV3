{
  "nbformat": 4,
  "nbformat_minor": 0,
  "metadata": {
    "colab": {
      "name": "Chest X-Ray Classification.ipynb",
      "provenance": [],
      "collapsed_sections": [],
      "toc_visible": true
    },
    "kernelspec": {
      "name": "python3",
      "display_name": "Python 3"
    },
    "language_info": {
      "name": "python"
    },
    "accelerator": "GPU"
  },
  "cells": [
    {
      "cell_type": "markdown",
      "metadata": {
        "id": "PVqzHdIoBI8M"
      },
      "source": [
        "# Chest X-Ray Images (Pneumonia) Classification\n"
      ]
    },
    {
      "cell_type": "markdown",
      "metadata": {
        "id": "jBcBn8ydUuNj"
      },
      "source": [
        "## Loading the Dataset"
      ]
    },
    {
      "cell_type": "code",
      "metadata": {
        "colab": {
          "base_uri": "https://localhost:8080/"
        },
        "id": "ilJeQgwjfqSX",
        "outputId": "b9916302-3163-42bb-fc65-6d7f05fcbb4a"
      },
      "source": [
        "pip install livelossplot"
      ],
      "execution_count": 78,
      "outputs": [
        {
          "output_type": "stream",
          "name": "stdout",
          "text": [
            "Requirement already satisfied: livelossplot in /usr/local/lib/python3.7/dist-packages (0.5.4)\n",
            "Requirement already satisfied: bokeh in /usr/local/lib/python3.7/dist-packages (from livelossplot) (2.3.3)\n",
            "Requirement already satisfied: ipython in /usr/local/lib/python3.7/dist-packages (from livelossplot) (5.5.0)\n",
            "Requirement already satisfied: matplotlib in /usr/local/lib/python3.7/dist-packages (from livelossplot) (3.2.2)\n",
            "Requirement already satisfied: PyYAML>=3.10 in /usr/local/lib/python3.7/dist-packages (from bokeh->livelossplot) (3.13)\n",
            "Requirement already satisfied: python-dateutil>=2.1 in /usr/local/lib/python3.7/dist-packages (from bokeh->livelossplot) (2.8.2)\n",
            "Requirement already satisfied: packaging>=16.8 in /usr/local/lib/python3.7/dist-packages (from bokeh->livelossplot) (21.2)\n",
            "Requirement already satisfied: typing-extensions>=3.7.4 in /usr/local/lib/python3.7/dist-packages (from bokeh->livelossplot) (3.10.0.2)\n",
            "Requirement already satisfied: tornado>=5.1 in /usr/local/lib/python3.7/dist-packages (from bokeh->livelossplot) (5.1.1)\n",
            "Requirement already satisfied: numpy>=1.11.3 in /usr/local/lib/python3.7/dist-packages (from bokeh->livelossplot) (1.19.5)\n",
            "Requirement already satisfied: pillow>=7.1.0 in /usr/local/lib/python3.7/dist-packages (from bokeh->livelossplot) (7.1.2)\n",
            "Requirement already satisfied: Jinja2>=2.9 in /usr/local/lib/python3.7/dist-packages (from bokeh->livelossplot) (2.11.3)\n",
            "Requirement already satisfied: MarkupSafe>=0.23 in /usr/local/lib/python3.7/dist-packages (from Jinja2>=2.9->bokeh->livelossplot) (2.0.1)\n",
            "Requirement already satisfied: pyparsing<3,>=2.0.2 in /usr/local/lib/python3.7/dist-packages (from packaging>=16.8->bokeh->livelossplot) (2.4.7)\n",
            "Requirement already satisfied: six>=1.5 in /usr/local/lib/python3.7/dist-packages (from python-dateutil>=2.1->bokeh->livelossplot) (1.15.0)\n",
            "Requirement already satisfied: prompt-toolkit<2.0.0,>=1.0.4 in /usr/local/lib/python3.7/dist-packages (from ipython->livelossplot) (1.0.18)\n",
            "Requirement already satisfied: pickleshare in /usr/local/lib/python3.7/dist-packages (from ipython->livelossplot) (0.7.5)\n",
            "Requirement already satisfied: traitlets>=4.2 in /usr/local/lib/python3.7/dist-packages (from ipython->livelossplot) (5.1.1)\n",
            "Requirement already satisfied: decorator in /usr/local/lib/python3.7/dist-packages (from ipython->livelossplot) (4.4.2)\n",
            "Requirement already satisfied: simplegeneric>0.8 in /usr/local/lib/python3.7/dist-packages (from ipython->livelossplot) (0.8.1)\n",
            "Requirement already satisfied: setuptools>=18.5 in /usr/local/lib/python3.7/dist-packages (from ipython->livelossplot) (57.4.0)\n",
            "Requirement already satisfied: pexpect in /usr/local/lib/python3.7/dist-packages (from ipython->livelossplot) (4.8.0)\n",
            "Requirement already satisfied: pygments in /usr/local/lib/python3.7/dist-packages (from ipython->livelossplot) (2.6.1)\n",
            "Requirement already satisfied: wcwidth in /usr/local/lib/python3.7/dist-packages (from prompt-toolkit<2.0.0,>=1.0.4->ipython->livelossplot) (0.2.5)\n",
            "Requirement already satisfied: kiwisolver>=1.0.1 in /usr/local/lib/python3.7/dist-packages (from matplotlib->livelossplot) (1.3.2)\n",
            "Requirement already satisfied: cycler>=0.10 in /usr/local/lib/python3.7/dist-packages (from matplotlib->livelossplot) (0.11.0)\n",
            "Requirement already satisfied: ptyprocess>=0.5 in /usr/local/lib/python3.7/dist-packages (from pexpect->ipython->livelossplot) (0.7.0)\n"
          ]
        }
      ]
    },
    {
      "cell_type": "code",
      "metadata": {
        "colab": {
          "base_uri": "https://localhost:8080/"
        },
        "id": "n47CcQmaXep2",
        "outputId": "8e06eadd-54a8-44c1-af55-8eee832ed818"
      },
      "source": [
        "#Getting Data from the google drive\n",
        "\n",
        "from google.colab import drive\n",
        "drive.mount('/content/gdrive')"
      ],
      "execution_count": 79,
      "outputs": [
        {
          "output_type": "stream",
          "name": "stdout",
          "text": [
            "Drive already mounted at /content/gdrive; to attempt to forcibly remount, call drive.mount(\"/content/gdrive\", force_remount=True).\n"
          ]
        }
      ]
    },
    {
      "cell_type": "code",
      "metadata": {
        "colab": {
          "base_uri": "https://localhost:8080/"
        },
        "id": "QGh8duZlXaAs",
        "outputId": "06c6da04-5b90-4c96-810f-9898d338bfac"
      },
      "source": [
        "#Extracting data from the zip file\n",
        "\n",
        "from zipfile import ZipFile\n",
        "file_name = \"gdrive/MyDrive/Colab Notebooks/Copy of chest_xray.zip\"\n",
        "\n",
        "with ZipFile(file_name, 'r') as zip:\n",
        "    # printing all the contents of the zip file\n",
        "    #zip.printdir()\n",
        "  \n",
        "    # extracting all the files\n",
        "    print('Extracting all the files now...')\n",
        "    zip.extractall()\n",
        "    print('Done!')"
      ],
      "execution_count": 80,
      "outputs": [
        {
          "output_type": "stream",
          "name": "stdout",
          "text": [
            "Extracting all the files now...\n",
            "Done!\n"
          ]
        }
      ]
    },
    {
      "cell_type": "code",
      "metadata": {
        "id": "RkVuEll6XD6O"
      },
      "source": [
        "#Importing Libraries\n",
        "import numpy as np\n",
        "import pandas as pd\n",
        "import os\n",
        "import matplotlib.pyplot as plt\n",
        "import tensorflow as tf \n",
        "from datetime import datetime\n",
        "from tensorflow.keras.preprocessing.image import ImageDataGenerator\n",
        "from tensorflow.keras import layers, Model\n",
        "from keras.applications.vgg16 import VGG16\n",
        "from keras.utils.vis_utils import plot_model\n",
        "from keras.callbacks import ModelCheckpoint,EarlyStopping\n",
        "from livelossplot.inputs.keras import PlotLossesCallback\n",
        "\n",
        "#Importing Models\n",
        "from tensorflow.keras.applications.vgg16 import VGG16"
      ],
      "execution_count": 81,
      "outputs": []
    },
    {
      "cell_type": "code",
      "metadata": {
        "id": "EwBjDcz0djN0"
      },
      "source": [
        "path_train='chest_xray/train'\n",
        "path_test='chest_xray/test'\n",
        "images_train=[]\n",
        "images_test=[]\n",
        "y=[]\n",
        "\n",
        "for folder in os.listdir(path_train):\n",
        "    if folder!=\".DS_Store\":\n",
        "        for file in os.listdir(os.path.join(path_train,folder)):\n",
        "                images_train.append(os.path.join(path_train, os.path.join(folder,file)))\n",
        "np.random.shuffle(images_train)\n",
        "\n",
        "for folder in os.listdir(path_test):\n",
        "    if folder!=\".DS_Store\":\n",
        "        for file in os.listdir(os.path.join(path_test,folder)):\n",
        "                if folder=='NORMAL':\n",
        "                    y1=0\n",
        "                else:\n",
        "                    y1=1\n",
        "                y.append(y1)\n",
        "                images_test.append(os.path.join(path_test, os.path.join(folder,file)))\n",
        "                "
      ],
      "execution_count": 82,
      "outputs": []
    },
    {
      "cell_type": "markdown",
      "metadata": {
        "id": "2YeVLeBSC_hh"
      },
      "source": [
        "## Data Augmentation and Generation"
      ]
    },
    {
      "cell_type": "code",
      "metadata": {
        "id": "iR6upEgQXI_c"
      },
      "source": [
        "def data_aug(bsize,path_train,path_test):\n",
        "  #Defining different types of geometries\n",
        "  train_datagen = ImageDataGenerator(rescale = 1./255., rotation_range = 40, width_shift_range = 0.2, height_shift_range = 0.2, shear_range = 0.2, zoom_range = 0.2, horizontal_flip = True)\n",
        "  test_datagen = ImageDataGenerator(rescale = 1.0/255.)\n",
        "\n",
        "  #Generating images\n",
        "  train_generator = train_datagen.flow_from_directory(path_train, batch_size = bsize, class_mode = 'binary', target_size = (224, 224))\n",
        "  test_generator = test_datagen.flow_from_directory(path_test, batch_size = bsize, class_mode = 'binary', target_size = (224, 224))\n",
        "  return train_generator,test_generator\n"
      ],
      "execution_count": 104,
      "outputs": []
    },
    {
      "cell_type": "markdown",
      "metadata": {
        "id": "xtztIsHNNIGJ"
      },
      "source": [
        "## Call Back Parameters"
      ]
    },
    {
      "cell_type": "code",
      "metadata": {
        "id": "kknkWtpWNXYi"
      },
      "source": [
        "# ModelCheckpoint callback - save best weights\n",
        "tl_checkpoint_1 = ModelCheckpoint(filepath=\"gdrive/MyDrive/Colab Notebooks\",\n",
        "                                  save_best_only=True,\n",
        "                                  verbose=1)\n",
        "\n",
        "# EarlyStopping\n",
        "early_stop = EarlyStopping(monitor='val_loss',\n",
        "                           patience=10,\n",
        "                           restore_best_weights=True,\n",
        "                           mode='min')"
      ],
      "execution_count": 100,
      "outputs": []
    },
    {
      "cell_type": "markdown",
      "metadata": {
        "id": "sMXaMeHlCLTb"
      },
      "source": [
        "## Adding End Layers"
      ]
    },
    {
      "cell_type": "code",
      "metadata": {
        "id": "4WQslHU2CPag"
      },
      "source": [
        "def add_layers(base_model,d1,drp,act1,act2):\n",
        "  # Flatten the output layer to 1 dimension\n",
        "  x = layers.Flatten()(base_model.output)\n",
        "  # Add a fully connected layer with 512 hidden units and ReLU activation\n",
        "  x = layers.Dense(d1, activation=act1)(x)\n",
        "  # Add a dropout rate of 0.5\n",
        "  x = layers.Dropout(drp)(x)\n",
        "  # Add a final sigmoid layer with 1 node for classification output\n",
        "  x = layers.Dense(1, activation=act2)(x)\n",
        "  return x"
      ],
      "execution_count": 85,
      "outputs": []
    },
    {
      "cell_type": "markdown",
      "metadata": {
        "id": "UOxExLstGG9o"
      },
      "source": [
        "# Model01- VGG16"
      ]
    },
    {
      "cell_type": "markdown",
      "metadata": {
        "id": "PaTqTstaTXF1"
      },
      "source": [
        "## Loading the Pre trained Data"
      ]
    },
    {
      "cell_type": "code",
      "metadata": {
        "id": "7xTKG7yLXvM5"
      },
      "source": [
        "#Loading the pretrained model\n",
        "base_model = VGG16(input_shape = (224, 224, 3), # Shape of our images\n",
        "include_top = False, # Leave out the last fully connected layer\n",
        "weights = 'imagenet')"
      ],
      "execution_count": 86,
      "outputs": []
    },
    {
      "cell_type": "markdown",
      "metadata": {
        "id": "ENQ6wb55TqJb"
      },
      "source": [
        "## Defining the non training layers"
      ]
    },
    {
      "cell_type": "code",
      "metadata": {
        "id": "38iH6cZYYJOz"
      },
      "source": [
        "#Setting the layers not being trained as false\n",
        "for layer in base_model.layers:\n",
        "  layer.trainable = False"
      ],
      "execution_count": 87,
      "outputs": []
    },
    {
      "cell_type": "markdown",
      "metadata": {
        "id": "Q4iXmn_KT0AQ"
      },
      "source": [
        "## Adding additional layers"
      ]
    },
    {
      "cell_type": "code",
      "metadata": {
        "id": "VjGVRmIHYOyn"
      },
      "source": [
        "#Defining the end layers\n",
        "x=add_layers(base_model,512,0.5,'relu','sigmoid')"
      ],
      "execution_count": 88,
      "outputs": []
    },
    {
      "cell_type": "markdown",
      "metadata": {
        "id": "ixQdXT6DUGZQ"
      },
      "source": [
        "## Compiling the model"
      ]
    },
    {
      "cell_type": "code",
      "metadata": {
        "colab": {
          "base_uri": "https://localhost:8080/"
        },
        "id": "un0oJvvBT-xi",
        "outputId": "d2f1c7d7-8477-453a-fa74-4905ee2f286b"
      },
      "source": [
        "#Compiling the model and defining the optimizer,loss function and the accuracy metrics\n",
        "vggmodel = tf.keras.models.Model(base_model.input, x)\n",
        "print(vggmodel.summary())\n",
        "vggmodel.compile(optimizer = tf.keras.optimizers.RMSprop(learning_rate=0.0001), loss = 'binary_crossentropy',metrics = ['acc'])"
      ],
      "execution_count": 89,
      "outputs": [
        {
          "output_type": "stream",
          "name": "stdout",
          "text": [
            "Model: \"model_11\"\n",
            "_________________________________________________________________\n",
            " Layer (type)                Output Shape              Param #   \n",
            "=================================================================\n",
            " input_6 (InputLayer)        [(None, 224, 224, 3)]     0         \n",
            "                                                                 \n",
            " block1_conv1 (Conv2D)       (None, 224, 224, 64)      1792      \n",
            "                                                                 \n",
            " block1_conv2 (Conv2D)       (None, 224, 224, 64)      36928     \n",
            "                                                                 \n",
            " block1_pool (MaxPooling2D)  (None, 112, 112, 64)      0         \n",
            "                                                                 \n",
            " block2_conv1 (Conv2D)       (None, 112, 112, 128)     73856     \n",
            "                                                                 \n",
            " block2_conv2 (Conv2D)       (None, 112, 112, 128)     147584    \n",
            "                                                                 \n",
            " block2_pool (MaxPooling2D)  (None, 56, 56, 128)       0         \n",
            "                                                                 \n",
            " block3_conv1 (Conv2D)       (None, 56, 56, 256)       295168    \n",
            "                                                                 \n",
            " block3_conv2 (Conv2D)       (None, 56, 56, 256)       590080    \n",
            "                                                                 \n",
            " block3_conv3 (Conv2D)       (None, 56, 56, 256)       590080    \n",
            "                                                                 \n",
            " block3_pool (MaxPooling2D)  (None, 28, 28, 256)       0         \n",
            "                                                                 \n",
            " block4_conv1 (Conv2D)       (None, 28, 28, 512)       1180160   \n",
            "                                                                 \n",
            " block4_conv2 (Conv2D)       (None, 28, 28, 512)       2359808   \n",
            "                                                                 \n",
            " block4_conv3 (Conv2D)       (None, 28, 28, 512)       2359808   \n",
            "                                                                 \n",
            " block4_pool (MaxPooling2D)  (None, 14, 14, 512)       0         \n",
            "                                                                 \n",
            " block5_conv1 (Conv2D)       (None, 14, 14, 512)       2359808   \n",
            "                                                                 \n",
            " block5_conv2 (Conv2D)       (None, 14, 14, 512)       2359808   \n",
            "                                                                 \n",
            " block5_conv3 (Conv2D)       (None, 14, 14, 512)       2359808   \n",
            "                                                                 \n",
            " block5_pool (MaxPooling2D)  (None, 7, 7, 512)         0         \n",
            "                                                                 \n",
            " flatten_10 (Flatten)        (None, 25088)             0         \n",
            "                                                                 \n",
            " dense_20 (Dense)            (None, 512)               12845568  \n",
            "                                                                 \n",
            " dropout_10 (Dropout)        (None, 512)               0         \n",
            "                                                                 \n",
            " dense_21 (Dense)            (None, 1)                 513       \n",
            "                                                                 \n",
            "=================================================================\n",
            "Total params: 27,560,769\n",
            "Trainable params: 12,846,081\n",
            "Non-trainable params: 14,714,688\n",
            "_________________________________________________________________\n",
            "None\n"
          ]
        }
      ]
    },
    {
      "cell_type": "markdown",
      "metadata": {
        "id": "-ZOADtP1UVkI"
      },
      "source": [
        "## Fitting the Model"
      ]
    },
    {
      "cell_type": "code",
      "metadata": {
        "colab": {
          "base_uri": "https://localhost:8080/",
          "height": 721
        },
        "id": "dr_1Kk13Ybn9",
        "outputId": "6b19b374-2f4f-4523-dd8b-b0524ab84499"
      },
      "source": [
        "print('\\nDataset Details')\n",
        "bsize=50\n",
        "train_vgg,test_vgg=data_aug(bsize,path_train,path_test)\n",
        "print('\\nTraining VGG 16 model')\n",
        "#Getting the time\n",
        "start_vgg=datetime.now()\n",
        "\n",
        "#Accuracy and loss plot\n",
        "plot_loss_1 = PlotLossesCallback()\n",
        "\n",
        "vgghist=vggmodel.fit(train_vgg, \n",
        "                  validation_data = test_vgg, \n",
        "                  steps_per_epoch = 10, \n",
        "                  epochs = 15,\n",
        "                  # validation_steps=1,\n",
        "                  callbacks=[tl_checkpoint_1, early_stop,plot_loss_1],\n",
        "                  verbose=1)\n",
        "end_vgg=datetime.now()\n",
        "print('Duration for VGG16: {}'.format(end_vgg-start_vgg))"
      ],
      "execution_count": 90,
      "outputs": [
        {
          "output_type": "display_data",
          "data": {
            "image/png": "[encoded data removed]",
            "text/plain": [
              "<Figure size 864x576 with 2 Axes>"
            ]
          },
          "metadata": {
            "needs_background": "light"
          }
        },
        {
          "output_type": "stream",
          "name": "stdout",
          "text": [
            "Accuracy\n",
            "\ttraining         \t (min:    0.706, max:    0.910, cur:    0.902)\n",
            "\tvalidation       \t (min:    0.625, max:    0.880, cur:    0.792)\n",
            "Loss\n",
            "\ttraining         \t (min:    0.215, max:    0.898, cur:    0.246)\n",
            "\tvalidation       \t (min:    0.316, max:    1.373, cur:    0.491)\n",
            "\b\b\b\b\b\b\b\b\b\b\b\b\b\b\b\b\b\b\b\b\b\b\b\b\b\b\b\b\b\b\b\b\b\b\b\b\b\b\b\b\b\b\b\b\b\b\b\b\b\b\b\b\b\b\b\b\b\b\b\b\b\b\b\b\b\b\b\b\b\b\b\b\b\b\b\b\b\r10/10 [==============================] - 21s 2s/step - loss: 0.2460 - acc: 0.9020 - val_loss: 0.4905 - val_acc: 0.7917\n",
            "Duration for VGG16: 0:07:34.828777\n"
          ]
        }
      ]
    },
    {
      "cell_type": "markdown",
      "metadata": {
        "id": "sgChVV_NKILS"
      },
      "source": [
        "## Passing images to the model"
      ]
    },
    {
      "cell_type": "code",
      "metadata": {
        "id": "FcRmM0xHc1Nj"
      },
      "source": [
        "# from keras.preprocessing.image import load_img\n",
        "# from keras.preprocessing.image import img_to_array\n",
        "# from keras.applications.vgg16 import preprocess_input\n",
        "\n",
        "# yhatvgg=[]\n",
        "# for img in images_test:\n",
        "#   # load an image from file\n",
        "#   image = load_img(img, target_size=(224, 224))\n",
        "\n",
        "#   # convert the image pixels to a numpy array\n",
        "#   image = img_to_array(image)\n",
        "#   # reshape data for the model\n",
        "#   image = image.reshape((1, image.shape[0], image.shape[1], image.shape[2]))\n",
        "\n",
        "#   # prepare the image for the VGG model\n",
        "#   image = preprocess_input(image)\n",
        "\n",
        "#   # predict the probability across all output classes\n",
        "#   yhat = vggmodel.predict(image)\n",
        "#   if yhat>=0.5:\n",
        "#      yhat=1\n",
        "#   else:\n",
        "#     yhat=0\n",
        "#   yhatvgg.append(yhat)\n",
        "\n",
        "# # print(yhatvgg)"
      ],
      "execution_count": 91,
      "outputs": []
    },
    {
      "cell_type": "markdown",
      "metadata": {
        "id": "65bKKRJBKPyi"
      },
      "source": [
        "## Confusion Matrix"
      ]
    },
    {
      "cell_type": "code",
      "metadata": {
        "id": "hYwCXNB9-Qc_"
      },
      "source": [
        "# from sklearn.metrics import classification_report, confusion_matrix, accuracy_score\n",
        "\n",
        "# f, axes = plt.subplots(1, 1, figsize=(20, 5), sharey='row')\n",
        "# Index= ['Normal','Pneumonia']\n",
        "\n",
        "# #Confusion matrix for SVM model\n",
        "# cf_matrix1 = confusion_matrix(y, yhatvgg)\n",
        "# disp = ConfusionMatrixDisplay(cf_matrix1,display_labels=Index)\n",
        "# disp.plot(ax=axes, xticks_rotation=45)\n",
        "# disp.ax_.set_title(\"VGG 16- Xray Data Set\")\n",
        "# disp.im_.colorbar.remove()\n",
        "# # disp.ax_.set_xlabel('')"
      ],
      "execution_count": 92,
      "outputs": []
    },
    {
      "cell_type": "markdown",
      "metadata": {
        "id": "mwLgrRcvy5iM"
      },
      "source": [
        "# Model02- InceptionV3"
      ]
    },
    {
      "cell_type": "markdown",
      "metadata": {
        "id": "gDYFgE2fJbxX"
      },
      "source": [
        "## Loading Pre trained Data"
      ]
    },
    {
      "cell_type": "code",
      "metadata": {
        "id": "8bw9tdvmjPz0"
      },
      "source": [
        "from tensorflow.keras.applications.inception_v3 import InceptionV3\n",
        "base_model_incep = InceptionV3(input_shape = (224, 224, 3), include_top = False, weights = 'imagenet')"
      ],
      "execution_count": 93,
      "outputs": []
    },
    {
      "cell_type": "markdown",
      "metadata": {
        "id": "UHlDKrA-Joqa"
      },
      "source": [
        "## Defining non training layers"
      ]
    },
    {
      "cell_type": "code",
      "metadata": {
        "id": "3vx2WTtF_vnY"
      },
      "source": [
        "for layer in base_model_incep.layers:\n",
        "  layer.trainable = False"
      ],
      "execution_count": 61,
      "outputs": []
    },
    {
      "cell_type": "markdown",
      "metadata": {
        "id": "_JliebSPJyzv"
      },
      "source": [
        "## Adding additional layers and compiling model"
      ]
    },
    {
      "cell_type": "code",
      "metadata": {
        "id": "qm7eRJom_yhD",
        "colab": {
          "base_uri": "https://localhost:8080/"
        },
        "outputId": "9512f501-a8f9-46dd-f988-82bbe3f04998"
      },
      "source": [
        "from tensorflow.keras.optimizers import RMSprop\n",
        "from tensorflow.keras import layers, Model\n",
        "\n",
        "#Calling the adding layers function\n",
        "x1=add_layers(base_model_incep,1024,0.2,'relu','sigmoid')\n",
        "\n",
        "#Compiling the model\n",
        "modelv3= tf.keras.models.Model(base_model_incep.input, x1)\n",
        "print(modelv3.summary())\n",
        "modelv3.compile(optimizer = RMSprop(learning_rate=0.0001), loss = 'binary_crossentropy', metrics = ['acc'])"
      ],
      "execution_count": 94,
      "outputs": [
        {
          "output_type": "stream",
          "name": "stdout",
          "text": [
            "Model: \"model_12\"\n",
            "__________________________________________________________________________________________________\n",
            " Layer (type)                   Output Shape         Param #     Connected to                     \n",
            "==================================================================================================\n",
            " input_7 (InputLayer)           [(None, 224, 224, 3  0           []                               \n",
            "                                )]                                                                \n",
            "                                                                                                  \n",
            " conv2d_282 (Conv2D)            (None, 111, 111, 32  864         ['input_7[0][0]']                \n",
            "                                )                                                                 \n",
            "                                                                                                  \n",
            " batch_normalization_282 (Batch  (None, 111, 111, 32  96         ['conv2d_282[0][0]']             \n",
            " Normalization)                 )                                                                 \n",
            "                                                                                                  \n",
            " activation_282 (Activation)    (None, 111, 111, 32  0           ['batch_normalization_282[0][0]']\n",
            "                                )                                                                 \n",
            "                                                                                                  \n",
            " conv2d_283 (Conv2D)            (None, 109, 109, 32  9216        ['activation_282[0][0]']         \n",
            "                                )                                                                 \n",
            "                                                                                                  \n",
            " batch_normalization_283 (Batch  (None, 109, 109, 32  96         ['conv2d_283[0][0]']             \n",
            " Normalization)                 )                                                                 \n",
            "                                                                                                  \n",
            " activation_283 (Activation)    (None, 109, 109, 32  0           ['batch_normalization_283[0][0]']\n",
            "                                )                                                                 \n",
            "                                                                                                  \n",
            " conv2d_284 (Conv2D)            (None, 109, 109, 64  18432       ['activation_283[0][0]']         \n",
            "                                )                                                                 \n",
            "                                                                                                  \n",
            " batch_normalization_284 (Batch  (None, 109, 109, 64  192        ['conv2d_284[0][0]']             \n",
            " Normalization)                 )                                                                 \n",
            "                                                                                                  \n",
            " activation_284 (Activation)    (None, 109, 109, 64  0           ['batch_normalization_284[0][0]']\n",
            "                                )                                                                 \n",
            "                                                                                                  \n",
            " max_pooling2d_12 (MaxPooling2D  (None, 54, 54, 64)  0           ['activation_284[0][0]']         \n",
            " )                                                                                                \n",
            "                                                                                                  \n",
            " conv2d_285 (Conv2D)            (None, 54, 54, 80)   5120        ['max_pooling2d_12[0][0]']       \n",
            "                                                                                                  \n",
            " batch_normalization_285 (Batch  (None, 54, 54, 80)  240         ['conv2d_285[0][0]']             \n",
            " Normalization)                                                                                   \n",
            "                                                                                                  \n",
            " activation_285 (Activation)    (None, 54, 54, 80)   0           ['batch_normalization_285[0][0]']\n",
            "                                                                                                  \n",
            " conv2d_286 (Conv2D)            (None, 52, 52, 192)  138240      ['activation_285[0][0]']         \n",
            "                                                                                                  \n",
            " batch_normalization_286 (Batch  (None, 52, 52, 192)  576        ['conv2d_286[0][0]']             \n",
            " Normalization)                                                                                   \n",
            "                                                                                                  \n",
            " activation_286 (Activation)    (None, 52, 52, 192)  0           ['batch_normalization_286[0][0]']\n",
            "                                                                                                  \n",
            " max_pooling2d_13 (MaxPooling2D  (None, 25, 25, 192)  0          ['activation_286[0][0]']         \n",
            " )                                                                                                \n",
            "                                                                                                  \n",
            " conv2d_290 (Conv2D)            (None, 25, 25, 64)   12288       ['max_pooling2d_13[0][0]']       \n",
            "                                                                                                  \n",
            " batch_normalization_290 (Batch  (None, 25, 25, 64)  192         ['conv2d_290[0][0]']             \n",
            " Normalization)                                                                                   \n",
            "                                                                                                  \n",
            " activation_290 (Activation)    (None, 25, 25, 64)   0           ['batch_normalization_290[0][0]']\n",
            "                                                                                                  \n",
            " conv2d_288 (Conv2D)            (None, 25, 25, 48)   9216        ['max_pooling2d_13[0][0]']       \n",
            "                                                                                                  \n",
            " conv2d_291 (Conv2D)            (None, 25, 25, 96)   55296       ['activation_290[0][0]']         \n",
            "                                                                                                  \n",
            " batch_normalization_288 (Batch  (None, 25, 25, 48)  144         ['conv2d_288[0][0]']             \n",
            " Normalization)                                                                                   \n",
            "                                                                                                  \n",
            " batch_normalization_291 (Batch  (None, 25, 25, 96)  288         ['conv2d_291[0][0]']             \n",
            " Normalization)                                                                                   \n",
            "                                                                                                  \n",
            " activation_288 (Activation)    (None, 25, 25, 48)   0           ['batch_normalization_288[0][0]']\n",
            "                                                                                                  \n",
            " activation_291 (Activation)    (None, 25, 25, 96)   0           ['batch_normalization_291[0][0]']\n",
            "                                                                                                  \n",
            " average_pooling2d_27 (AverageP  (None, 25, 25, 192)  0          ['max_pooling2d_13[0][0]']       \n",
            " ooling2D)                                                                                        \n",
            "                                                                                                  \n",
            " conv2d_287 (Conv2D)            (None, 25, 25, 64)   12288       ['max_pooling2d_13[0][0]']       \n",
            "                                                                                                  \n",
            " conv2d_289 (Conv2D)            (None, 25, 25, 64)   76800       ['activation_288[0][0]']         \n",
            "                                                                                                  \n",
            " conv2d_292 (Conv2D)            (None, 25, 25, 96)   82944       ['activation_291[0][0]']         \n",
            "                                                                                                  \n",
            " conv2d_293 (Conv2D)            (None, 25, 25, 32)   6144        ['average_pooling2d_27[0][0]']   \n",
            "                                                                                                  \n",
            " batch_normalization_287 (Batch  (None, 25, 25, 64)  192         ['conv2d_287[0][0]']             \n",
            " Normalization)                                                                                   \n",
            "                                                                                                  \n",
            " batch_normalization_289 (Batch  (None, 25, 25, 64)  192         ['conv2d_289[0][0]']             \n",
            " Normalization)                                                                                   \n",
            "                                                                                                  \n",
            " batch_normalization_292 (Batch  (None, 25, 25, 96)  288         ['conv2d_292[0][0]']             \n",
            " Normalization)                                                                                   \n",
            "                                                                                                  \n",
            " batch_normalization_293 (Batch  (None, 25, 25, 32)  96          ['conv2d_293[0][0]']             \n",
            " Normalization)                                                                                   \n",
            "                                                                                                  \n",
            " activation_287 (Activation)    (None, 25, 25, 64)   0           ['batch_normalization_287[0][0]']\n",
            "                                                                                                  \n",
            " activation_289 (Activation)    (None, 25, 25, 64)   0           ['batch_normalization_289[0][0]']\n",
            "                                                                                                  \n",
            " activation_292 (Activation)    (None, 25, 25, 96)   0           ['batch_normalization_292[0][0]']\n",
            "                                                                                                  \n",
            " activation_293 (Activation)    (None, 25, 25, 32)   0           ['batch_normalization_293[0][0]']\n",
            "                                                                                                  \n",
            " mixed0 (Concatenate)           (None, 25, 25, 256)  0           ['activation_287[0][0]',         \n",
            "                                                                  'activation_289[0][0]',         \n",
            "                                                                  'activation_292[0][0]',         \n",
            "                                                                  'activation_293[0][0]']         \n",
            "                                                                                                  \n",
            " conv2d_297 (Conv2D)            (None, 25, 25, 64)   16384       ['mixed0[0][0]']                 \n",
            "                                                                                                  \n",
            " batch_normalization_297 (Batch  (None, 25, 25, 64)  192         ['conv2d_297[0][0]']             \n",
            " Normalization)                                                                                   \n",
            "                                                                                                  \n",
            " activation_297 (Activation)    (None, 25, 25, 64)   0           ['batch_normalization_297[0][0]']\n",
            "                                                                                                  \n",
            " conv2d_295 (Conv2D)            (None, 25, 25, 48)   12288       ['mixed0[0][0]']                 \n",
            "                                                                                                  \n",
            " conv2d_298 (Conv2D)            (None, 25, 25, 96)   55296       ['activation_297[0][0]']         \n",
            "                                                                                                  \n",
            " batch_normalization_295 (Batch  (None, 25, 25, 48)  144         ['conv2d_295[0][0]']             \n",
            " Normalization)                                                                                   \n",
            "                                                                                                  \n",
            " batch_normalization_298 (Batch  (None, 25, 25, 96)  288         ['conv2d_298[0][0]']             \n",
            " Normalization)                                                                                   \n",
            "                                                                                                  \n",
            " activation_295 (Activation)    (None, 25, 25, 48)   0           ['batch_normalization_295[0][0]']\n",
            "                                                                                                  \n",
            " activation_298 (Activation)    (None, 25, 25, 96)   0           ['batch_normalization_298[0][0]']\n",
            "                                                                                                  \n",
            " average_pooling2d_28 (AverageP  (None, 25, 25, 256)  0          ['mixed0[0][0]']                 \n",
            " ooling2D)                                                                                        \n",
            "                                                                                                  \n",
            " conv2d_294 (Conv2D)            (None, 25, 25, 64)   16384       ['mixed0[0][0]']                 \n",
            "                                                                                                  \n",
            " conv2d_296 (Conv2D)            (None, 25, 25, 64)   76800       ['activation_295[0][0]']         \n",
            "                                                                                                  \n",
            " conv2d_299 (Conv2D)            (None, 25, 25, 96)   82944       ['activation_298[0][0]']         \n",
            "                                                                                                  \n",
            " conv2d_300 (Conv2D)            (None, 25, 25, 64)   16384       ['average_pooling2d_28[0][0]']   \n",
            "                                                                                                  \n",
            " batch_normalization_294 (Batch  (None, 25, 25, 64)  192         ['conv2d_294[0][0]']             \n",
            " Normalization)                                                                                   \n",
            "                                                                                                  \n",
            " batch_normalization_296 (Batch  (None, 25, 25, 64)  192         ['conv2d_296[0][0]']             \n",
            " Normalization)                                                                                   \n",
            "                                                                                                  \n",
            " batch_normalization_299 (Batch  (None, 25, 25, 96)  288         ['conv2d_299[0][0]']             \n",
            " Normalization)                                                                                   \n",
            "                                                                                                  \n",
            " batch_normalization_300 (Batch  (None, 25, 25, 64)  192         ['conv2d_300[0][0]']             \n",
            " Normalization)                                                                                   \n",
            "                                                                                                  \n",
            " activation_294 (Activation)    (None, 25, 25, 64)   0           ['batch_normalization_294[0][0]']\n",
            "                                                                                                  \n",
            " activation_296 (Activation)    (None, 25, 25, 64)   0           ['batch_normalization_296[0][0]']\n",
            "                                                                                                  \n",
            " activation_299 (Activation)    (None, 25, 25, 96)   0           ['batch_normalization_299[0][0]']\n",
            "                                                                                                  \n",
            " activation_300 (Activation)    (None, 25, 25, 64)   0           ['batch_normalization_300[0][0]']\n",
            "                                                                                                  \n",
            " mixed1 (Concatenate)           (None, 25, 25, 288)  0           ['activation_294[0][0]',         \n",
            "                                                                  'activation_296[0][0]',         \n",
            "                                                                  'activation_299[0][0]',         \n",
            "                                                                  'activation_300[0][0]']         \n",
            "                                                                                                  \n",
            " conv2d_304 (Conv2D)            (None, 25, 25, 64)   18432       ['mixed1[0][0]']                 \n",
            "                                                                                                  \n",
            " batch_normalization_304 (Batch  (None, 25, 25, 64)  192         ['conv2d_304[0][0]']             \n",
            " Normalization)                                                                                   \n",
            "                                                                                                  \n",
            " activation_304 (Activation)    (None, 25, 25, 64)   0           ['batch_normalization_304[0][0]']\n",
            "                                                                                                  \n",
            " conv2d_302 (Conv2D)            (None, 25, 25, 48)   13824       ['mixed1[0][0]']                 \n",
            "                                                                                                  \n",
            " conv2d_305 (Conv2D)            (None, 25, 25, 96)   55296       ['activation_304[0][0]']         \n",
            "                                                                                                  \n",
            " batch_normalization_302 (Batch  (None, 25, 25, 48)  144         ['conv2d_302[0][0]']             \n",
            " Normalization)                                                                                   \n",
            "                                                                                                  \n",
            " batch_normalization_305 (Batch  (None, 25, 25, 96)  288         ['conv2d_305[0][0]']             \n",
            " Normalization)                                                                                   \n",
            "                                                                                                  \n",
            " activation_302 (Activation)    (None, 25, 25, 48)   0           ['batch_normalization_302[0][0]']\n",
            "                                                                                                  \n",
            " activation_305 (Activation)    (None, 25, 25, 96)   0           ['batch_normalization_305[0][0]']\n",
            "                                                                                                  \n",
            " average_pooling2d_29 (AverageP  (None, 25, 25, 288)  0          ['mixed1[0][0]']                 \n",
            " ooling2D)                                                                                        \n",
            "                                                                                                  \n",
            " conv2d_301 (Conv2D)            (None, 25, 25, 64)   18432       ['mixed1[0][0]']                 \n",
            "                                                                                                  \n",
            " conv2d_303 (Conv2D)            (None, 25, 25, 64)   76800       ['activation_302[0][0]']         \n",
            "                                                                                                  \n",
            " conv2d_306 (Conv2D)            (None, 25, 25, 96)   82944       ['activation_305[0][0]']         \n",
            "                                                                                                  \n",
            " conv2d_307 (Conv2D)            (None, 25, 25, 64)   18432       ['average_pooling2d_29[0][0]']   \n",
            "                                                                                                  \n",
            " batch_normalization_301 (Batch  (None, 25, 25, 64)  192         ['conv2d_301[0][0]']             \n",
            " Normalization)                                                                                   \n",
            "                                                                                                  \n",
            " batch_normalization_303 (Batch  (None, 25, 25, 64)  192         ['conv2d_303[0][0]']             \n",
            " Normalization)                                                                                   \n",
            "                                                                                                  \n",
            " batch_normalization_306 (Batch  (None, 25, 25, 96)  288         ['conv2d_306[0][0]']             \n",
            " Normalization)                                                                                   \n",
            "                                                                                                  \n",
            " batch_normalization_307 (Batch  (None, 25, 25, 64)  192         ['conv2d_307[0][0]']             \n",
            " Normalization)                                                                                   \n",
            "                                                                                                  \n",
            " activation_301 (Activation)    (None, 25, 25, 64)   0           ['batch_normalization_301[0][0]']\n",
            "                                                                                                  \n",
            " activation_303 (Activation)    (None, 25, 25, 64)   0           ['batch_normalization_303[0][0]']\n",
            "                                                                                                  \n",
            " activation_306 (Activation)    (None, 25, 25, 96)   0           ['batch_normalization_306[0][0]']\n",
            "                                                                                                  \n",
            " activation_307 (Activation)    (None, 25, 25, 64)   0           ['batch_normalization_307[0][0]']\n",
            "                                                                                                  \n",
            " mixed2 (Concatenate)           (None, 25, 25, 288)  0           ['activation_301[0][0]',         \n",
            "                                                                  'activation_303[0][0]',         \n",
            "                                                                  'activation_306[0][0]',         \n",
            "                                                                  'activation_307[0][0]']         \n",
            "                                                                                                  \n",
            " conv2d_309 (Conv2D)            (None, 25, 25, 64)   18432       ['mixed2[0][0]']                 \n",
            "                                                                                                  \n",
            " batch_normalization_309 (Batch  (None, 25, 25, 64)  192         ['conv2d_309[0][0]']             \n",
            " Normalization)                                                                                   \n",
            "                                                                                                  \n",
            " activation_309 (Activation)    (None, 25, 25, 64)   0           ['batch_normalization_309[0][0]']\n",
            "                                                                                                  \n",
            " conv2d_310 (Conv2D)            (None, 25, 25, 96)   55296       ['activation_309[0][0]']         \n",
            "                                                                                                  \n",
            " batch_normalization_310 (Batch  (None, 25, 25, 96)  288         ['conv2d_310[0][0]']             \n",
            " Normalization)                                                                                   \n",
            "                                                                                                  \n",
            " activation_310 (Activation)    (None, 25, 25, 96)   0           ['batch_normalization_310[0][0]']\n",
            "                                                                                                  \n",
            " conv2d_308 (Conv2D)            (None, 12, 12, 384)  995328      ['mixed2[0][0]']                 \n",
            "                                                                                                  \n",
            " conv2d_311 (Conv2D)            (None, 12, 12, 96)   82944       ['activation_310[0][0]']         \n",
            "                                                                                                  \n",
            " batch_normalization_308 (Batch  (None, 12, 12, 384)  1152       ['conv2d_308[0][0]']             \n",
            " Normalization)                                                                                   \n",
            "                                                                                                  \n",
            " batch_normalization_311 (Batch  (None, 12, 12, 96)  288         ['conv2d_311[0][0]']             \n",
            " Normalization)                                                                                   \n",
            "                                                                                                  \n",
            " activation_308 (Activation)    (None, 12, 12, 384)  0           ['batch_normalization_308[0][0]']\n",
            "                                                                                                  \n",
            " activation_311 (Activation)    (None, 12, 12, 96)   0           ['batch_normalization_311[0][0]']\n",
            "                                                                                                  \n",
            " max_pooling2d_14 (MaxPooling2D  (None, 12, 12, 288)  0          ['mixed2[0][0]']                 \n",
            " )                                                                                                \n",
            "                                                                                                  \n",
            " mixed3 (Concatenate)           (None, 12, 12, 768)  0           ['activation_308[0][0]',         \n",
            "                                                                  'activation_311[0][0]',         \n",
            "                                                                  'max_pooling2d_14[0][0]']       \n",
            "                                                                                                  \n",
            " conv2d_316 (Conv2D)            (None, 12, 12, 128)  98304       ['mixed3[0][0]']                 \n",
            "                                                                                                  \n",
            " batch_normalization_316 (Batch  (None, 12, 12, 128)  384        ['conv2d_316[0][0]']             \n",
            " Normalization)                                                                                   \n",
            "                                                                                                  \n",
            " activation_316 (Activation)    (None, 12, 12, 128)  0           ['batch_normalization_316[0][0]']\n",
            "                                                                                                  \n",
            " conv2d_317 (Conv2D)            (None, 12, 12, 128)  114688      ['activation_316[0][0]']         \n",
            "                                                                                                  \n",
            " batch_normalization_317 (Batch  (None, 12, 12, 128)  384        ['conv2d_317[0][0]']             \n",
            " Normalization)                                                                                   \n",
            "                                                                                                  \n",
            " activation_317 (Activation)    (None, 12, 12, 128)  0           ['batch_normalization_317[0][0]']\n",
            "                                                                                                  \n",
            " conv2d_313 (Conv2D)            (None, 12, 12, 128)  98304       ['mixed3[0][0]']                 \n",
            "                                                                                                  \n",
            " conv2d_318 (Conv2D)            (None, 12, 12, 128)  114688      ['activation_317[0][0]']         \n",
            "                                                                                                  \n",
            " batch_normalization_313 (Batch  (None, 12, 12, 128)  384        ['conv2d_313[0][0]']             \n",
            " Normalization)                                                                                   \n",
            "                                                                                                  \n",
            " batch_normalization_318 (Batch  (None, 12, 12, 128)  384        ['conv2d_318[0][0]']             \n",
            " Normalization)                                                                                   \n",
            "                                                                                                  \n",
            " activation_313 (Activation)    (None, 12, 12, 128)  0           ['batch_normalization_313[0][0]']\n",
            "                                                                                                  \n",
            " activation_318 (Activation)    (None, 12, 12, 128)  0           ['batch_normalization_318[0][0]']\n",
            "                                                                                                  \n",
            " conv2d_314 (Conv2D)            (None, 12, 12, 128)  114688      ['activation_313[0][0]']         \n",
            "                                                                                                  \n",
            " conv2d_319 (Conv2D)            (None, 12, 12, 128)  114688      ['activation_318[0][0]']         \n",
            "                                                                                                  \n",
            " batch_normalization_314 (Batch  (None, 12, 12, 128)  384        ['conv2d_314[0][0]']             \n",
            " Normalization)                                                                                   \n",
            "                                                                                                  \n",
            " batch_normalization_319 (Batch  (None, 12, 12, 128)  384        ['conv2d_319[0][0]']             \n",
            " Normalization)                                                                                   \n",
            "                                                                                                  \n",
            " activation_314 (Activation)    (None, 12, 12, 128)  0           ['batch_normalization_314[0][0]']\n",
            "                                                                                                  \n",
            " activation_319 (Activation)    (None, 12, 12, 128)  0           ['batch_normalization_319[0][0]']\n",
            "                                                                                                  \n",
            " average_pooling2d_30 (AverageP  (None, 12, 12, 768)  0          ['mixed3[0][0]']                 \n",
            " ooling2D)                                                                                        \n",
            "                                                                                                  \n",
            " conv2d_312 (Conv2D)            (None, 12, 12, 192)  147456      ['mixed3[0][0]']                 \n",
            "                                                                                                  \n",
            " conv2d_315 (Conv2D)            (None, 12, 12, 192)  172032      ['activation_314[0][0]']         \n",
            "                                                                                                  \n",
            " conv2d_320 (Conv2D)            (None, 12, 12, 192)  172032      ['activation_319[0][0]']         \n",
            "                                                                                                  \n",
            " conv2d_321 (Conv2D)            (None, 12, 12, 192)  147456      ['average_pooling2d_30[0][0]']   \n",
            "                                                                                                  \n",
            " batch_normalization_312 (Batch  (None, 12, 12, 192)  576        ['conv2d_312[0][0]']             \n",
            " Normalization)                                                                                   \n",
            "                                                                                                  \n",
            " batch_normalization_315 (Batch  (None, 12, 12, 192)  576        ['conv2d_315[0][0]']             \n",
            " Normalization)                                                                                   \n",
            "                                                                                                  \n",
            " batch_normalization_320 (Batch  (None, 12, 12, 192)  576        ['conv2d_320[0][0]']             \n",
            " Normalization)                                                                                   \n",
            "                                                                                                  \n",
            " batch_normalization_321 (Batch  (None, 12, 12, 192)  576        ['conv2d_321[0][0]']             \n",
            " Normalization)                                                                                   \n",
            "                                                                                                  \n",
            " activation_312 (Activation)    (None, 12, 12, 192)  0           ['batch_normalization_312[0][0]']\n",
            "                                                                                                  \n",
            " activation_315 (Activation)    (None, 12, 12, 192)  0           ['batch_normalization_315[0][0]']\n",
            "                                                                                                  \n",
            " activation_320 (Activation)    (None, 12, 12, 192)  0           ['batch_normalization_320[0][0]']\n",
            "                                                                                                  \n",
            " activation_321 (Activation)    (None, 12, 12, 192)  0           ['batch_normalization_321[0][0]']\n",
            "                                                                                                  \n",
            " mixed4 (Concatenate)           (None, 12, 12, 768)  0           ['activation_312[0][0]',         \n",
            "                                                                  'activation_315[0][0]',         \n",
            "                                                                  'activation_320[0][0]',         \n",
            "                                                                  'activation_321[0][0]']         \n",
            "                                                                                                  \n",
            " conv2d_326 (Conv2D)            (None, 12, 12, 160)  122880      ['mixed4[0][0]']                 \n",
            "                                                                                                  \n",
            " batch_normalization_326 (Batch  (None, 12, 12, 160)  480        ['conv2d_326[0][0]']             \n",
            " Normalization)                                                                                   \n",
            "                                                                                                  \n",
            " activation_326 (Activation)    (None, 12, 12, 160)  0           ['batch_normalization_326[0][0]']\n",
            "                                                                                                  \n",
            " conv2d_327 (Conv2D)            (None, 12, 12, 160)  179200      ['activation_326[0][0]']         \n",
            "                                                                                                  \n",
            " batch_normalization_327 (Batch  (None, 12, 12, 160)  480        ['conv2d_327[0][0]']             \n",
            " Normalization)                                                                                   \n",
            "                                                                                                  \n",
            " activation_327 (Activation)    (None, 12, 12, 160)  0           ['batch_normalization_327[0][0]']\n",
            "                                                                                                  \n",
            " conv2d_323 (Conv2D)            (None, 12, 12, 160)  122880      ['mixed4[0][0]']                 \n",
            "                                                                                                  \n",
            " conv2d_328 (Conv2D)            (None, 12, 12, 160)  179200      ['activation_327[0][0]']         \n",
            "                                                                                                  \n",
            " batch_normalization_323 (Batch  (None, 12, 12, 160)  480        ['conv2d_323[0][0]']             \n",
            " Normalization)                                                                                   \n",
            "                                                                                                  \n",
            " batch_normalization_328 (Batch  (None, 12, 12, 160)  480        ['conv2d_328[0][0]']             \n",
            " Normalization)                                                                                   \n",
            "                                                                                                  \n",
            " activation_323 (Activation)    (None, 12, 12, 160)  0           ['batch_normalization_323[0][0]']\n",
            "                                                                                                  \n",
            " activation_328 (Activation)    (None, 12, 12, 160)  0           ['batch_normalization_328[0][0]']\n",
            "                                                                                                  \n",
            " conv2d_324 (Conv2D)            (None, 12, 12, 160)  179200      ['activation_323[0][0]']         \n",
            "                                                                                                  \n",
            " conv2d_329 (Conv2D)            (None, 12, 12, 160)  179200      ['activation_328[0][0]']         \n",
            "                                                                                                  \n",
            " batch_normalization_324 (Batch  (None, 12, 12, 160)  480        ['conv2d_324[0][0]']             \n",
            " Normalization)                                                                                   \n",
            "                                                                                                  \n",
            " batch_normalization_329 (Batch  (None, 12, 12, 160)  480        ['conv2d_329[0][0]']             \n",
            " Normalization)                                                                                   \n",
            "                                                                                                  \n",
            " activation_324 (Activation)    (None, 12, 12, 160)  0           ['batch_normalization_324[0][0]']\n",
            "                                                                                                  \n",
            " activation_329 (Activation)    (None, 12, 12, 160)  0           ['batch_normalization_329[0][0]']\n",
            "                                                                                                  \n",
            " average_pooling2d_31 (AverageP  (None, 12, 12, 768)  0          ['mixed4[0][0]']                 \n",
            " ooling2D)                                                                                        \n",
            "                                                                                                  \n",
            " conv2d_322 (Conv2D)            (None, 12, 12, 192)  147456      ['mixed4[0][0]']                 \n",
            "                                                                                                  \n",
            " conv2d_325 (Conv2D)            (None, 12, 12, 192)  215040      ['activation_324[0][0]']         \n",
            "                                                                                                  \n",
            " conv2d_330 (Conv2D)            (None, 12, 12, 192)  215040      ['activation_329[0][0]']         \n",
            "                                                                                                  \n",
            " conv2d_331 (Conv2D)            (None, 12, 12, 192)  147456      ['average_pooling2d_31[0][0]']   \n",
            "                                                                                                  \n",
            " batch_normalization_322 (Batch  (None, 12, 12, 192)  576        ['conv2d_322[0][0]']             \n",
            " Normalization)                                                                                   \n",
            "                                                                                                  \n",
            " batch_normalization_325 (Batch  (None, 12, 12, 192)  576        ['conv2d_325[0][0]']             \n",
            " Normalization)                                                                                   \n",
            "                                                                                                  \n",
            " batch_normalization_330 (Batch  (None, 12, 12, 192)  576        ['conv2d_330[0][0]']             \n",
            " Normalization)                                                                                   \n",
            "                                                                                                  \n",
            " batch_normalization_331 (Batch  (None, 12, 12, 192)  576        ['conv2d_331[0][0]']             \n",
            " Normalization)                                                                                   \n",
            "                                                                                                  \n",
            " activation_322 (Activation)    (None, 12, 12, 192)  0           ['batch_normalization_322[0][0]']\n",
            "                                                                                                  \n",
            " activation_325 (Activation)    (None, 12, 12, 192)  0           ['batch_normalization_325[0][0]']\n",
            "                                                                                                  \n",
            " activation_330 (Activation)    (None, 12, 12, 192)  0           ['batch_normalization_330[0][0]']\n",
            "                                                                                                  \n",
            " activation_331 (Activation)    (None, 12, 12, 192)  0           ['batch_normalization_331[0][0]']\n",
            "                                                                                                  \n",
            " mixed5 (Concatenate)           (None, 12, 12, 768)  0           ['activation_322[0][0]',         \n",
            "                                                                  'activation_325[0][0]',         \n",
            "                                                                  'activation_330[0][0]',         \n",
            "                                                                  'activation_331[0][0]']         \n",
            "                                                                                                  \n",
            " conv2d_336 (Conv2D)            (None, 12, 12, 160)  122880      ['mixed5[0][0]']                 \n",
            "                                                                                                  \n",
            " batch_normalization_336 (Batch  (None, 12, 12, 160)  480        ['conv2d_336[0][0]']             \n",
            " Normalization)                                                                                   \n",
            "                                                                                                  \n",
            " activation_336 (Activation)    (None, 12, 12, 160)  0           ['batch_normalization_336[0][0]']\n",
            "                                                                                                  \n",
            " conv2d_337 (Conv2D)            (None, 12, 12, 160)  179200      ['activation_336[0][0]']         \n",
            "                                                                                                  \n",
            " batch_normalization_337 (Batch  (None, 12, 12, 160)  480        ['conv2d_337[0][0]']             \n",
            " Normalization)                                                                                   \n",
            "                                                                                                  \n",
            " activation_337 (Activation)    (None, 12, 12, 160)  0           ['batch_normalization_337[0][0]']\n",
            "                                                                                                  \n",
            " conv2d_333 (Conv2D)            (None, 12, 12, 160)  122880      ['mixed5[0][0]']                 \n",
            "                                                                                                  \n",
            " conv2d_338 (Conv2D)            (None, 12, 12, 160)  179200      ['activation_337[0][0]']         \n",
            "                                                                                                  \n",
            " batch_normalization_333 (Batch  (None, 12, 12, 160)  480        ['conv2d_333[0][0]']             \n",
            " Normalization)                                                                                   \n",
            "                                                                                                  \n",
            " batch_normalization_338 (Batch  (None, 12, 12, 160)  480        ['conv2d_338[0][0]']             \n",
            " Normalization)                                                                                   \n",
            "                                                                                                  \n",
            " activation_333 (Activation)    (None, 12, 12, 160)  0           ['batch_normalization_333[0][0]']\n",
            "                                                                                                  \n",
            " activation_338 (Activation)    (None, 12, 12, 160)  0           ['batch_normalization_338[0][0]']\n",
            "                                                                                                  \n",
            " conv2d_334 (Conv2D)            (None, 12, 12, 160)  179200      ['activation_333[0][0]']         \n",
            "                                                                                                  \n",
            " conv2d_339 (Conv2D)            (None, 12, 12, 160)  179200      ['activation_338[0][0]']         \n",
            "                                                                                                  \n",
            " batch_normalization_334 (Batch  (None, 12, 12, 160)  480        ['conv2d_334[0][0]']             \n",
            " Normalization)                                                                                   \n",
            "                                                                                                  \n",
            " batch_normalization_339 (Batch  (None, 12, 12, 160)  480        ['conv2d_339[0][0]']             \n",
            " Normalization)                                                                                   \n",
            "                                                                                                  \n",
            " activation_334 (Activation)    (None, 12, 12, 160)  0           ['batch_normalization_334[0][0]']\n",
            "                                                                                                  \n",
            " activation_339 (Activation)    (None, 12, 12, 160)  0           ['batch_normalization_339[0][0]']\n",
            "                                                                                                  \n",
            " average_pooling2d_32 (AverageP  (None, 12, 12, 768)  0          ['mixed5[0][0]']                 \n",
            " ooling2D)                                                                                        \n",
            "                                                                                                  \n",
            " conv2d_332 (Conv2D)            (None, 12, 12, 192)  147456      ['mixed5[0][0]']                 \n",
            "                                                                                                  \n",
            " conv2d_335 (Conv2D)            (None, 12, 12, 192)  215040      ['activation_334[0][0]']         \n",
            "                                                                                                  \n",
            " conv2d_340 (Conv2D)            (None, 12, 12, 192)  215040      ['activation_339[0][0]']         \n",
            "                                                                                                  \n",
            " conv2d_341 (Conv2D)            (None, 12, 12, 192)  147456      ['average_pooling2d_32[0][0]']   \n",
            "                                                                                                  \n",
            " batch_normalization_332 (Batch  (None, 12, 12, 192)  576        ['conv2d_332[0][0]']             \n",
            " Normalization)                                                                                   \n",
            "                                                                                                  \n",
            " batch_normalization_335 (Batch  (None, 12, 12, 192)  576        ['conv2d_335[0][0]']             \n",
            " Normalization)                                                                                   \n",
            "                                                                                                  \n",
            " batch_normalization_340 (Batch  (None, 12, 12, 192)  576        ['conv2d_340[0][0]']             \n",
            " Normalization)                                                                                   \n",
            "                                                                                                  \n",
            " batch_normalization_341 (Batch  (None, 12, 12, 192)  576        ['conv2d_341[0][0]']             \n",
            " Normalization)                                                                                   \n",
            "                                                                                                  \n",
            " activation_332 (Activation)    (None, 12, 12, 192)  0           ['batch_normalization_332[0][0]']\n",
            "                                                                                                  \n",
            " activation_335 (Activation)    (None, 12, 12, 192)  0           ['batch_normalization_335[0][0]']\n",
            "                                                                                                  \n",
            " activation_340 (Activation)    (None, 12, 12, 192)  0           ['batch_normalization_340[0][0]']\n",
            "                                                                                                  \n",
            " activation_341 (Activation)    (None, 12, 12, 192)  0           ['batch_normalization_341[0][0]']\n",
            "                                                                                                  \n",
            " mixed6 (Concatenate)           (None, 12, 12, 768)  0           ['activation_332[0][0]',         \n",
            "                                                                  'activation_335[0][0]',         \n",
            "                                                                  'activation_340[0][0]',         \n",
            "                                                                  'activation_341[0][0]']         \n",
            "                                                                                                  \n",
            " conv2d_346 (Conv2D)            (None, 12, 12, 192)  147456      ['mixed6[0][0]']                 \n",
            "                                                                                                  \n",
            " batch_normalization_346 (Batch  (None, 12, 12, 192)  576        ['conv2d_346[0][0]']             \n",
            " Normalization)                                                                                   \n",
            "                                                                                                  \n",
            " activation_346 (Activation)    (None, 12, 12, 192)  0           ['batch_normalization_346[0][0]']\n",
            "                                                                                                  \n",
            " conv2d_347 (Conv2D)            (None, 12, 12, 192)  258048      ['activation_346[0][0]']         \n",
            "                                                                                                  \n",
            " batch_normalization_347 (Batch  (None, 12, 12, 192)  576        ['conv2d_347[0][0]']             \n",
            " Normalization)                                                                                   \n",
            "                                                                                                  \n",
            " activation_347 (Activation)    (None, 12, 12, 192)  0           ['batch_normalization_347[0][0]']\n",
            "                                                                                                  \n",
            " conv2d_343 (Conv2D)            (None, 12, 12, 192)  147456      ['mixed6[0][0]']                 \n",
            "                                                                                                  \n",
            " conv2d_348 (Conv2D)            (None, 12, 12, 192)  258048      ['activation_347[0][0]']         \n",
            "                                                                                                  \n",
            " batch_normalization_343 (Batch  (None, 12, 12, 192)  576        ['conv2d_343[0][0]']             \n",
            " Normalization)                                                                                   \n",
            "                                                                                                  \n",
            " batch_normalization_348 (Batch  (None, 12, 12, 192)  576        ['conv2d_348[0][0]']             \n",
            " Normalization)                                                                                   \n",
            "                                                                                                  \n",
            " activation_343 (Activation)    (None, 12, 12, 192)  0           ['batch_normalization_343[0][0]']\n",
            "                                                                                                  \n",
            " activation_348 (Activation)    (None, 12, 12, 192)  0           ['batch_normalization_348[0][0]']\n",
            "                                                                                                  \n",
            " conv2d_344 (Conv2D)            (None, 12, 12, 192)  258048      ['activation_343[0][0]']         \n",
            "                                                                                                  \n",
            " conv2d_349 (Conv2D)            (None, 12, 12, 192)  258048      ['activation_348[0][0]']         \n",
            "                                                                                                  \n",
            " batch_normalization_344 (Batch  (None, 12, 12, 192)  576        ['conv2d_344[0][0]']             \n",
            " Normalization)                                                                                   \n",
            "                                                                                                  \n",
            " batch_normalization_349 (Batch  (None, 12, 12, 192)  576        ['conv2d_349[0][0]']             \n",
            " Normalization)                                                                                   \n",
            "                                                                                                  \n",
            " activation_344 (Activation)    (None, 12, 12, 192)  0           ['batch_normalization_344[0][0]']\n",
            "                                                                                                  \n",
            " activation_349 (Activation)    (None, 12, 12, 192)  0           ['batch_normalization_349[0][0]']\n",
            "                                                                                                  \n",
            " average_pooling2d_33 (AverageP  (None, 12, 12, 768)  0          ['mixed6[0][0]']                 \n",
            " ooling2D)                                                                                        \n",
            "                                                                                                  \n",
            " conv2d_342 (Conv2D)            (None, 12, 12, 192)  147456      ['mixed6[0][0]']                 \n",
            "                                                                                                  \n",
            " conv2d_345 (Conv2D)            (None, 12, 12, 192)  258048      ['activation_344[0][0]']         \n",
            "                                                                                                  \n",
            " conv2d_350 (Conv2D)            (None, 12, 12, 192)  258048      ['activation_349[0][0]']         \n",
            "                                                                                                  \n",
            " conv2d_351 (Conv2D)            (None, 12, 12, 192)  147456      ['average_pooling2d_33[0][0]']   \n",
            "                                                                                                  \n",
            " batch_normalization_342 (Batch  (None, 12, 12, 192)  576        ['conv2d_342[0][0]']             \n",
            " Normalization)                                                                                   \n",
            "                                                                                                  \n",
            " batch_normalization_345 (Batch  (None, 12, 12, 192)  576        ['conv2d_345[0][0]']             \n",
            " Normalization)                                                                                   \n",
            "                                                                                                  \n",
            " batch_normalization_350 (Batch  (None, 12, 12, 192)  576        ['conv2d_350[0][0]']             \n",
            " Normalization)                                                                                   \n",
            "                                                                                                  \n",
            " batch_normalization_351 (Batch  (None, 12, 12, 192)  576        ['conv2d_351[0][0]']             \n",
            " Normalization)                                                                                   \n",
            "                                                                                                  \n",
            " activation_342 (Activation)    (None, 12, 12, 192)  0           ['batch_normalization_342[0][0]']\n",
            "                                                                                                  \n",
            " activation_345 (Activation)    (None, 12, 12, 192)  0           ['batch_normalization_345[0][0]']\n",
            "                                                                                                  \n",
            " activation_350 (Activation)    (None, 12, 12, 192)  0           ['batch_normalization_350[0][0]']\n",
            "                                                                                                  \n",
            " activation_351 (Activation)    (None, 12, 12, 192)  0           ['batch_normalization_351[0][0]']\n",
            "                                                                                                  \n",
            " mixed7 (Concatenate)           (None, 12, 12, 768)  0           ['activation_342[0][0]',         \n",
            "                                                                  'activation_345[0][0]',         \n",
            "                                                                  'activation_350[0][0]',         \n",
            "                                                                  'activation_351[0][0]']         \n",
            "                                                                                                  \n",
            " conv2d_354 (Conv2D)            (None, 12, 12, 192)  147456      ['mixed7[0][0]']                 \n",
            "                                                                                                  \n",
            " batch_normalization_354 (Batch  (None, 12, 12, 192)  576        ['conv2d_354[0][0]']             \n",
            " Normalization)                                                                                   \n",
            "                                                                                                  \n",
            " activation_354 (Activation)    (None, 12, 12, 192)  0           ['batch_normalization_354[0][0]']\n",
            "                                                                                                  \n",
            " conv2d_355 (Conv2D)            (None, 12, 12, 192)  258048      ['activation_354[0][0]']         \n",
            "                                                                                                  \n",
            " batch_normalization_355 (Batch  (None, 12, 12, 192)  576        ['conv2d_355[0][0]']             \n",
            " Normalization)                                                                                   \n",
            "                                                                                                  \n",
            " activation_355 (Activation)    (None, 12, 12, 192)  0           ['batch_normalization_355[0][0]']\n",
            "                                                                                                  \n",
            " conv2d_352 (Conv2D)            (None, 12, 12, 192)  147456      ['mixed7[0][0]']                 \n",
            "                                                                                                  \n",
            " conv2d_356 (Conv2D)            (None, 12, 12, 192)  258048      ['activation_355[0][0]']         \n",
            "                                                                                                  \n",
            " batch_normalization_352 (Batch  (None, 12, 12, 192)  576        ['conv2d_352[0][0]']             \n",
            " Normalization)                                                                                   \n",
            "                                                                                                  \n",
            " batch_normalization_356 (Batch  (None, 12, 12, 192)  576        ['conv2d_356[0][0]']             \n",
            " Normalization)                                                                                   \n",
            "                                                                                                  \n",
            " activation_352 (Activation)    (None, 12, 12, 192)  0           ['batch_normalization_352[0][0]']\n",
            "                                                                                                  \n",
            " activation_356 (Activation)    (None, 12, 12, 192)  0           ['batch_normalization_356[0][0]']\n",
            "                                                                                                  \n",
            " conv2d_353 (Conv2D)            (None, 5, 5, 320)    552960      ['activation_352[0][0]']         \n",
            "                                                                                                  \n",
            " conv2d_357 (Conv2D)            (None, 5, 5, 192)    331776      ['activation_356[0][0]']         \n",
            "                                                                                                  \n",
            " batch_normalization_353 (Batch  (None, 5, 5, 320)   960         ['conv2d_353[0][0]']             \n",
            " Normalization)                                                                                   \n",
            "                                                                                                  \n",
            " batch_normalization_357 (Batch  (None, 5, 5, 192)   576         ['conv2d_357[0][0]']             \n",
            " Normalization)                                                                                   \n",
            "                                                                                                  \n",
            " activation_353 (Activation)    (None, 5, 5, 320)    0           ['batch_normalization_353[0][0]']\n",
            "                                                                                                  \n",
            " activation_357 (Activation)    (None, 5, 5, 192)    0           ['batch_normalization_357[0][0]']\n",
            "                                                                                                  \n",
            " max_pooling2d_15 (MaxPooling2D  (None, 5, 5, 768)   0           ['mixed7[0][0]']                 \n",
            " )                                                                                                \n",
            "                                                                                                  \n",
            " mixed8 (Concatenate)           (None, 5, 5, 1280)   0           ['activation_353[0][0]',         \n",
            "                                                                  'activation_357[0][0]',         \n",
            "                                                                  'max_pooling2d_15[0][0]']       \n",
            "                                                                                                  \n",
            " conv2d_362 (Conv2D)            (None, 5, 5, 448)    573440      ['mixed8[0][0]']                 \n",
            "                                                                                                  \n",
            " batch_normalization_362 (Batch  (None, 5, 5, 448)   1344        ['conv2d_362[0][0]']             \n",
            " Normalization)                                                                                   \n",
            "                                                                                                  \n",
            " activation_362 (Activation)    (None, 5, 5, 448)    0           ['batch_normalization_362[0][0]']\n",
            "                                                                                                  \n",
            " conv2d_359 (Conv2D)            (None, 5, 5, 384)    491520      ['mixed8[0][0]']                 \n",
            "                                                                                                  \n",
            " conv2d_363 (Conv2D)            (None, 5, 5, 384)    1548288     ['activation_362[0][0]']         \n",
            "                                                                                                  \n",
            " batch_normalization_359 (Batch  (None, 5, 5, 384)   1152        ['conv2d_359[0][0]']             \n",
            " Normalization)                                                                                   \n",
            "                                                                                                  \n",
            " batch_normalization_363 (Batch  (None, 5, 5, 384)   1152        ['conv2d_363[0][0]']             \n",
            " Normalization)                                                                                   \n",
            "                                                                                                  \n",
            " activation_359 (Activation)    (None, 5, 5, 384)    0           ['batch_normalization_359[0][0]']\n",
            "                                                                                                  \n",
            " activation_363 (Activation)    (None, 5, 5, 384)    0           ['batch_normalization_363[0][0]']\n",
            "                                                                                                  \n",
            " conv2d_360 (Conv2D)            (None, 5, 5, 384)    442368      ['activation_359[0][0]']         \n",
            "                                                                                                  \n",
            " conv2d_361 (Conv2D)            (None, 5, 5, 384)    442368      ['activation_359[0][0]']         \n",
            "                                                                                                  \n",
            " conv2d_364 (Conv2D)            (None, 5, 5, 384)    442368      ['activation_363[0][0]']         \n",
            "                                                                                                  \n",
            " conv2d_365 (Conv2D)            (None, 5, 5, 384)    442368      ['activation_363[0][0]']         \n",
            "                                                                                                  \n",
            " average_pooling2d_34 (AverageP  (None, 5, 5, 1280)  0           ['mixed8[0][0]']                 \n",
            " ooling2D)                                                                                        \n",
            "                                                                                                  \n",
            " conv2d_358 (Conv2D)            (None, 5, 5, 320)    409600      ['mixed8[0][0]']                 \n",
            "                                                                                                  \n",
            " batch_normalization_360 (Batch  (None, 5, 5, 384)   1152        ['conv2d_360[0][0]']             \n",
            " Normalization)                                                                                   \n",
            "                                                                                                  \n",
            " batch_normalization_361 (Batch  (None, 5, 5, 384)   1152        ['conv2d_361[0][0]']             \n",
            " Normalization)                                                                                   \n",
            "                                                                                                  \n",
            " batch_normalization_364 (Batch  (None, 5, 5, 384)   1152        ['conv2d_364[0][0]']             \n",
            " Normalization)                                                                                   \n",
            "                                                                                                  \n",
            " batch_normalization_365 (Batch  (None, 5, 5, 384)   1152        ['conv2d_365[0][0]']             \n",
            " Normalization)                                                                                   \n",
            "                                                                                                  \n",
            " conv2d_366 (Conv2D)            (None, 5, 5, 192)    245760      ['average_pooling2d_34[0][0]']   \n",
            "                                                                                                  \n",
            " batch_normalization_358 (Batch  (None, 5, 5, 320)   960         ['conv2d_358[0][0]']             \n",
            " Normalization)                                                                                   \n",
            "                                                                                                  \n",
            " activation_360 (Activation)    (None, 5, 5, 384)    0           ['batch_normalization_360[0][0]']\n",
            "                                                                                                  \n",
            " activation_361 (Activation)    (None, 5, 5, 384)    0           ['batch_normalization_361[0][0]']\n",
            "                                                                                                  \n",
            " activation_364 (Activation)    (None, 5, 5, 384)    0           ['batch_normalization_364[0][0]']\n",
            "                                                                                                  \n",
            " activation_365 (Activation)    (None, 5, 5, 384)    0           ['batch_normalization_365[0][0]']\n",
            "                                                                                                  \n",
            " batch_normalization_366 (Batch  (None, 5, 5, 192)   576         ['conv2d_366[0][0]']             \n",
            " Normalization)                                                                                   \n",
            "                                                                                                  \n",
            " activation_358 (Activation)    (None, 5, 5, 320)    0           ['batch_normalization_358[0][0]']\n",
            "                                                                                                  \n",
            " mixed9_0 (Concatenate)         (None, 5, 5, 768)    0           ['activation_360[0][0]',         \n",
            "                                                                  'activation_361[0][0]']         \n",
            "                                                                                                  \n",
            " concatenate_6 (Concatenate)    (None, 5, 5, 768)    0           ['activation_364[0][0]',         \n",
            "                                                                  'activation_365[0][0]']         \n",
            "                                                                                                  \n",
            " activation_366 (Activation)    (None, 5, 5, 192)    0           ['batch_normalization_366[0][0]']\n",
            "                                                                                                  \n",
            " mixed9 (Concatenate)           (None, 5, 5, 2048)   0           ['activation_358[0][0]',         \n",
            "                                                                  'mixed9_0[0][0]',               \n",
            "                                                                  'concatenate_6[0][0]',          \n",
            "                                                                  'activation_366[0][0]']         \n",
            "                                                                                                  \n",
            " conv2d_371 (Conv2D)            (None, 5, 5, 448)    917504      ['mixed9[0][0]']                 \n",
            "                                                                                                  \n",
            " batch_normalization_371 (Batch  (None, 5, 5, 448)   1344        ['conv2d_371[0][0]']             \n",
            " Normalization)                                                                                   \n",
            "                                                                                                  \n",
            " activation_371 (Activation)    (None, 5, 5, 448)    0           ['batch_normalization_371[0][0]']\n",
            "                                                                                                  \n",
            " conv2d_368 (Conv2D)            (None, 5, 5, 384)    786432      ['mixed9[0][0]']                 \n",
            "                                                                                                  \n",
            " conv2d_372 (Conv2D)            (None, 5, 5, 384)    1548288     ['activation_371[0][0]']         \n",
            "                                                                                                  \n",
            " batch_normalization_368 (Batch  (None, 5, 5, 384)   1152        ['conv2d_368[0][0]']             \n",
            " Normalization)                                                                                   \n",
            "                                                                                                  \n",
            " batch_normalization_372 (Batch  (None, 5, 5, 384)   1152        ['conv2d_372[0][0]']             \n",
            " Normalization)                                                                                   \n",
            "                                                                                                  \n",
            " activation_368 (Activation)    (None, 5, 5, 384)    0           ['batch_normalization_368[0][0]']\n",
            "                                                                                                  \n",
            " activation_372 (Activation)    (None, 5, 5, 384)    0           ['batch_normalization_372[0][0]']\n",
            "                                                                                                  \n",
            " conv2d_369 (Conv2D)            (None, 5, 5, 384)    442368      ['activation_368[0][0]']         \n",
            "                                                                                                  \n",
            " conv2d_370 (Conv2D)            (None, 5, 5, 384)    442368      ['activation_368[0][0]']         \n",
            "                                                                                                  \n",
            " conv2d_373 (Conv2D)            (None, 5, 5, 384)    442368      ['activation_372[0][0]']         \n",
            "                                                                                                  \n",
            " conv2d_374 (Conv2D)            (None, 5, 5, 384)    442368      ['activation_372[0][0]']         \n",
            "                                                                                                  \n",
            " average_pooling2d_35 (AverageP  (None, 5, 5, 2048)  0           ['mixed9[0][0]']                 \n",
            " ooling2D)                                                                                        \n",
            "                                                                                                  \n",
            " conv2d_367 (Conv2D)            (None, 5, 5, 320)    655360      ['mixed9[0][0]']                 \n",
            "                                                                                                  \n",
            " batch_normalization_369 (Batch  (None, 5, 5, 384)   1152        ['conv2d_369[0][0]']             \n",
            " Normalization)                                                                                   \n",
            "                                                                                                  \n",
            " batch_normalization_370 (Batch  (None, 5, 5, 384)   1152        ['conv2d_370[0][0]']             \n",
            " Normalization)                                                                                   \n",
            "                                                                                                  \n",
            " batch_normalization_373 (Batch  (None, 5, 5, 384)   1152        ['conv2d_373[0][0]']             \n",
            " Normalization)                                                                                   \n",
            "                                                                                                  \n",
            " batch_normalization_374 (Batch  (None, 5, 5, 384)   1152        ['conv2d_374[0][0]']             \n",
            " Normalization)                                                                                   \n",
            "                                                                                                  \n",
            " conv2d_375 (Conv2D)            (None, 5, 5, 192)    393216      ['average_pooling2d_35[0][0]']   \n",
            "                                                                                                  \n",
            " batch_normalization_367 (Batch  (None, 5, 5, 320)   960         ['conv2d_367[0][0]']             \n",
            " Normalization)                                                                                   \n",
            "                                                                                                  \n",
            " activation_369 (Activation)    (None, 5, 5, 384)    0           ['batch_normalization_369[0][0]']\n",
            "                                                                                                  \n",
            " activation_370 (Activation)    (None, 5, 5, 384)    0           ['batch_normalization_370[0][0]']\n",
            "                                                                                                  \n",
            " activation_373 (Activation)    (None, 5, 5, 384)    0           ['batch_normalization_373[0][0]']\n",
            "                                                                                                  \n",
            " activation_374 (Activation)    (None, 5, 5, 384)    0           ['batch_normalization_374[0][0]']\n",
            "                                                                                                  \n",
            " batch_normalization_375 (Batch  (None, 5, 5, 192)   576         ['conv2d_375[0][0]']             \n",
            " Normalization)                                                                                   \n",
            "                                                                                                  \n",
            " activation_367 (Activation)    (None, 5, 5, 320)    0           ['batch_normalization_367[0][0]']\n",
            "                                                                                                  \n",
            " mixed9_1 (Concatenate)         (None, 5, 5, 768)    0           ['activation_369[0][0]',         \n",
            "                                                                  'activation_370[0][0]']         \n",
            "                                                                                                  \n",
            " concatenate_7 (Concatenate)    (None, 5, 5, 768)    0           ['activation_373[0][0]',         \n",
            "                                                                  'activation_374[0][0]']         \n",
            "                                                                                                  \n",
            " activation_375 (Activation)    (None, 5, 5, 192)    0           ['batch_normalization_375[0][0]']\n",
            "                                                                                                  \n",
            " mixed10 (Concatenate)          (None, 5, 5, 2048)   0           ['activation_367[0][0]',         \n",
            "                                                                  'mixed9_1[0][0]',               \n",
            "                                                                  'concatenate_7[0][0]',          \n",
            "                                                                  'activation_375[0][0]']         \n",
            "                                                                                                  \n",
            " flatten_11 (Flatten)           (None, 51200)        0           ['mixed10[0][0]']                \n",
            "                                                                                                  \n",
            " dense_22 (Dense)               (None, 1024)         52429824    ['flatten_11[0][0]']             \n",
            "                                                                                                  \n",
            " dropout_11 (Dropout)           (None, 1024)         0           ['dense_22[0][0]']               \n",
            "                                                                                                  \n",
            " dense_23 (Dense)               (None, 1)            1025        ['dropout_11[0][0]']             \n",
            "                                                                                                  \n",
            "==================================================================================================\n",
            "Total params: 74,233,633\n",
            "Trainable params: 74,199,201\n",
            "Non-trainable params: 34,432\n",
            "__________________________________________________________________________________________________\n",
            "None\n"
          ]
        }
      ]
    },
    {
      "cell_type": "markdown",
      "metadata": {
        "id": "jbEKE0QPKChw"
      },
      "source": [
        "## Fitting the model"
      ]
    },
    {
      "cell_type": "code",
      "metadata": {
        "colab": {
          "base_uri": "https://localhost:8080/",
          "height": 1000
        },
        "id": "YSuTkemm_30o",
        "outputId": "3eeaa05b-cc9b-48bc-afd9-15158eaf1dbd"
      },
      "source": [
        "print('\\nDataset Details')\n",
        "bsize=100\n",
        "train_v3,test_v3=data_aug(bsize,path_train,path_test)\n",
        "\n",
        "\n",
        "print('\\nTraining Inception V3 model')\n",
        "#Calculating Time\n",
        "start_v3=datetime.now()\n",
        "\n",
        "#Accuracy and loss plot\n",
        "plot_loss_2 = PlotLossesCallback()\n",
        "\n",
        "inc_history = modelv3.fit(train_v3, \n",
        "                        validation_data = test_v3, \n",
        "                        steps_per_epoch = 10, \n",
        "                        epochs = 10,\n",
        "                        callbacks=[tl_checkpoint_1, early_stop,plot_loss_2],\n",
        "                        verbose=1)\n",
        "end_v3=datetime.now()\n",
        "print('Duration for inceptionV3: {}'.format(end_v3-start_v3))"
      ],
      "execution_count": null,
      "outputs": [
        {
          "output_type": "display_data",
          "data": {
            "image/png": "[encoded data removed]",
            "text/plain": [
              "<Figure size 864x576 with 2 Axes>"
            ]
          },
          "metadata": {
            "needs_background": "light"
          }
        },
        {
          "output_type": "stream",
          "name": "stdout",
          "text": [
            "Accuracy\n",
            "\ttraining         \t (min:    0.949, max:    0.963, cur:    0.957)\n",
            "\tvalidation       \t (min:    0.625, max:    0.625, cur:    0.625)\n",
            "Loss\n",
            "\ttraining         \t (min:    0.110, max:    0.158, cur:    0.116)\n",
            "\tvalidation       \t (min:    8.157, max:   10.164, cur:   10.164)\n",
            "\b\b\b\b\b\b\b\b\b\b\b\b\b\b\b\b\b\b\b\b\b\b\b\b\b\b\b\b\b\b\b\b\b\b\b\b\b\b\b\b\b\b\b\b\b\b\b\b\b\b\b\b\b\b\b\b\b\b\b\b\b\b\b\b\b\b\b\b\b\b\b\b\b\b\b\b\b\r10/10 [==============================] - 37s 4s/step - loss: 0.1162 - acc: 0.9570 - val_loss: 10.1641 - val_acc: 0.6250\n",
            "Epoch 5/10\n",
            " 7/10 [====================>.........] - ETA: 7s - loss: 0.1472 - acc: 0.9430"
          ]
        },
        {
          "output_type": "error",
          "ename": "KeyboardInterrupt",
          "evalue": "ignored",
          "traceback": [
            "\u001b[0;31m---------------------------------------------------------------------------\u001b[0m",
            "\u001b[0;31mKeyboardInterrupt\u001b[0m                         Traceback (most recent call last)",
            "\u001b[0;32m<ipython-input-107-cc54be3f23f9>\u001b[0m in \u001b[0;36m<module>\u001b[0;34m()\u001b[0m\n\u001b[1;32m     16\u001b[0m                         \u001b[0mepochs\u001b[0m \u001b[0;34m=\u001b[0m \u001b[0;36m10\u001b[0m\u001b[0;34m,\u001b[0m\u001b[0;34m\u001b[0m\u001b[0;34m\u001b[0m\u001b[0m\n\u001b[1;32m     17\u001b[0m                         \u001b[0mcallbacks\u001b[0m\u001b[0;34m=\u001b[0m\u001b[0;34m[\u001b[0m\u001b[0mtl_checkpoint_1\u001b[0m\u001b[0;34m,\u001b[0m \u001b[0mearly_stop\u001b[0m\u001b[0;34m,\u001b[0m\u001b[0mplot_loss_2\u001b[0m\u001b[0;34m]\u001b[0m\u001b[0;34m,\u001b[0m\u001b[0;34m\u001b[0m\u001b[0;34m\u001b[0m\u001b[0m\n\u001b[0;32m---> 18\u001b[0;31m                         verbose=1)\n\u001b[0m\u001b[1;32m     19\u001b[0m \u001b[0mend_v3\u001b[0m\u001b[0;34m=\u001b[0m\u001b[0mdatetime\u001b[0m\u001b[0;34m.\u001b[0m\u001b[0mnow\u001b[0m\u001b[0;34m(\u001b[0m\u001b[0;34m)\u001b[0m\u001b[0;34m\u001b[0m\u001b[0;34m\u001b[0m\u001b[0m\n\u001b[1;32m     20\u001b[0m \u001b[0mprint\u001b[0m\u001b[0;34m(\u001b[0m\u001b[0;34m'Duration for inceptionV3: {}'\u001b[0m\u001b[0;34m.\u001b[0m\u001b[0mformat\u001b[0m\u001b[0;34m(\u001b[0m\u001b[0mend_v3\u001b[0m\u001b[0;34m-\u001b[0m\u001b[0mstart_v3\u001b[0m\u001b[0;34m)\u001b[0m\u001b[0;34m)\u001b[0m\u001b[0;34m\u001b[0m\u001b[0;34m\u001b[0m\u001b[0m\n",
            "\u001b[0;32m/usr/local/lib/python3.7/dist-packages/keras/utils/traceback_utils.py\u001b[0m in \u001b[0;36merror_handler\u001b[0;34m(*args, **kwargs)\u001b[0m\n\u001b[1;32m     62\u001b[0m     \u001b[0mfiltered_tb\u001b[0m \u001b[0;34m=\u001b[0m \u001b[0;32mNone\u001b[0m\u001b[0;34m\u001b[0m\u001b[0;34m\u001b[0m\u001b[0m\n\u001b[1;32m     63\u001b[0m     \u001b[0;32mtry\u001b[0m\u001b[0;34m:\u001b[0m\u001b[0;34m\u001b[0m\u001b[0;34m\u001b[0m\u001b[0m\n\u001b[0;32m---> 64\u001b[0;31m       \u001b[0;32mreturn\u001b[0m \u001b[0mfn\u001b[0m\u001b[0;34m(\u001b[0m\u001b[0;34m*\u001b[0m\u001b[0margs\u001b[0m\u001b[0;34m,\u001b[0m \u001b[0;34m**\u001b[0m\u001b[0mkwargs\u001b[0m\u001b[0;34m)\u001b[0m\u001b[0;34m\u001b[0m\u001b[0;34m\u001b[0m\u001b[0m\n\u001b[0m\u001b[1;32m     65\u001b[0m     \u001b[0;32mexcept\u001b[0m \u001b[0mException\u001b[0m \u001b[0;32mas\u001b[0m \u001b[0me\u001b[0m\u001b[0;34m:\u001b[0m  \u001b[0;31m# pylint: disable=broad-except\u001b[0m\u001b[0;34m\u001b[0m\u001b[0;34m\u001b[0m\u001b[0m\n\u001b[1;32m     66\u001b[0m       \u001b[0mfiltered_tb\u001b[0m \u001b[0;34m=\u001b[0m \u001b[0m_process_traceback_frames\u001b[0m\u001b[0;34m(\u001b[0m\u001b[0me\u001b[0m\u001b[0;34m.\u001b[0m\u001b[0m__traceback__\u001b[0m\u001b[0;34m)\u001b[0m\u001b[0;34m\u001b[0m\u001b[0;34m\u001b[0m\u001b[0m\n",
            "\u001b[0;32m/usr/local/lib/python3.7/dist-packages/keras/engine/training.py\u001b[0m in \u001b[0;36mfit\u001b[0;34m(self, x, y, batch_size, epochs, verbose, callbacks, validation_split, validation_data, shuffle, class_weight, sample_weight, initial_epoch, steps_per_epoch, validation_steps, validation_batch_size, validation_freq, max_queue_size, workers, use_multiprocessing)\u001b[0m\n\u001b[1;32m   1214\u001b[0m                 _r=1):\n\u001b[1;32m   1215\u001b[0m               \u001b[0mcallbacks\u001b[0m\u001b[0;34m.\u001b[0m\u001b[0mon_train_batch_begin\u001b[0m\u001b[0;34m(\u001b[0m\u001b[0mstep\u001b[0m\u001b[0;34m)\u001b[0m\u001b[0;34m\u001b[0m\u001b[0;34m\u001b[0m\u001b[0m\n\u001b[0;32m-> 1216\u001b[0;31m               \u001b[0mtmp_logs\u001b[0m \u001b[0;34m=\u001b[0m \u001b[0mself\u001b[0m\u001b[0;34m.\u001b[0m\u001b[0mtrain_function\u001b[0m\u001b[0;34m(\u001b[0m\u001b[0miterator\u001b[0m\u001b[0;34m)\u001b[0m\u001b[0;34m\u001b[0m\u001b[0;34m\u001b[0m\u001b[0m\n\u001b[0m\u001b[1;32m   1217\u001b[0m               \u001b[0;32mif\u001b[0m \u001b[0mdata_handler\u001b[0m\u001b[0;34m.\u001b[0m\u001b[0mshould_sync\u001b[0m\u001b[0;34m:\u001b[0m\u001b[0;34m\u001b[0m\u001b[0;34m\u001b[0m\u001b[0m\n\u001b[1;32m   1218\u001b[0m                 \u001b[0mcontext\u001b[0m\u001b[0;34m.\u001b[0m\u001b[0masync_wait\u001b[0m\u001b[0;34m(\u001b[0m\u001b[0;34m)\u001b[0m\u001b[0;34m\u001b[0m\u001b[0;34m\u001b[0m\u001b[0m\n",
            "\u001b[0;32m/usr/local/lib/python3.7/dist-packages/tensorflow/python/util/traceback_utils.py\u001b[0m in \u001b[0;36merror_handler\u001b[0;34m(*args, **kwargs)\u001b[0m\n\u001b[1;32m    148\u001b[0m     \u001b[0mfiltered_tb\u001b[0m \u001b[0;34m=\u001b[0m \u001b[0;32mNone\u001b[0m\u001b[0;34m\u001b[0m\u001b[0;34m\u001b[0m\u001b[0m\n\u001b[1;32m    149\u001b[0m     \u001b[0;32mtry\u001b[0m\u001b[0;34m:\u001b[0m\u001b[0;34m\u001b[0m\u001b[0;34m\u001b[0m\u001b[0m\n\u001b[0;32m--> 150\u001b[0;31m       \u001b[0;32mreturn\u001b[0m \u001b[0mfn\u001b[0m\u001b[0;34m(\u001b[0m\u001b[0;34m*\u001b[0m\u001b[0margs\u001b[0m\u001b[0;34m,\u001b[0m \u001b[0;34m**\u001b[0m\u001b[0mkwargs\u001b[0m\u001b[0;34m)\u001b[0m\u001b[0;34m\u001b[0m\u001b[0;34m\u001b[0m\u001b[0m\n\u001b[0m\u001b[1;32m    151\u001b[0m     \u001b[0;32mexcept\u001b[0m \u001b[0mException\u001b[0m \u001b[0;32mas\u001b[0m \u001b[0me\u001b[0m\u001b[0;34m:\u001b[0m\u001b[0;34m\u001b[0m\u001b[0;34m\u001b[0m\u001b[0m\n\u001b[1;32m    152\u001b[0m       \u001b[0mfiltered_tb\u001b[0m \u001b[0;34m=\u001b[0m \u001b[0m_process_traceback_frames\u001b[0m\u001b[0;34m(\u001b[0m\u001b[0me\u001b[0m\u001b[0;34m.\u001b[0m\u001b[0m__traceback__\u001b[0m\u001b[0;34m)\u001b[0m\u001b[0;34m\u001b[0m\u001b[0;34m\u001b[0m\u001b[0m\n",
            "\u001b[0;32m/usr/local/lib/python3.7/dist-packages/tensorflow/python/eager/def_function.py\u001b[0m in \u001b[0;36m__call__\u001b[0;34m(self, *args, **kwds)\u001b[0m\n\u001b[1;32m    908\u001b[0m \u001b[0;34m\u001b[0m\u001b[0m\n\u001b[1;32m    909\u001b[0m       \u001b[0;32mwith\u001b[0m \u001b[0mOptionalXlaContext\u001b[0m\u001b[0;34m(\u001b[0m\u001b[0mself\u001b[0m\u001b[0;34m.\u001b[0m\u001b[0m_jit_compile\u001b[0m\u001b[0;34m)\u001b[0m\u001b[0;34m:\u001b[0m\u001b[0;34m\u001b[0m\u001b[0;34m\u001b[0m\u001b[0m\n\u001b[0;32m--> 910\u001b[0;31m         \u001b[0mresult\u001b[0m \u001b[0;34m=\u001b[0m \u001b[0mself\u001b[0m\u001b[0;34m.\u001b[0m\u001b[0m_call\u001b[0m\u001b[0;34m(\u001b[0m\u001b[0;34m*\u001b[0m\u001b[0margs\u001b[0m\u001b[0;34m,\u001b[0m \u001b[0;34m**\u001b[0m\u001b[0mkwds\u001b[0m\u001b[0;34m)\u001b[0m\u001b[0;34m\u001b[0m\u001b[0;34m\u001b[0m\u001b[0m\n\u001b[0m\u001b[1;32m    911\u001b[0m \u001b[0;34m\u001b[0m\u001b[0m\n\u001b[1;32m    912\u001b[0m       \u001b[0mnew_tracing_count\u001b[0m \u001b[0;34m=\u001b[0m \u001b[0mself\u001b[0m\u001b[0;34m.\u001b[0m\u001b[0mexperimental_get_tracing_count\u001b[0m\u001b[0;34m(\u001b[0m\u001b[0;34m)\u001b[0m\u001b[0;34m\u001b[0m\u001b[0;34m\u001b[0m\u001b[0m\n",
            "\u001b[0;32m/usr/local/lib/python3.7/dist-packages/tensorflow/python/eager/def_function.py\u001b[0m in \u001b[0;36m_call\u001b[0;34m(self, *args, **kwds)\u001b[0m\n\u001b[1;32m    940\u001b[0m       \u001b[0;31m# In this case we have created variables on the first call, so we run the\u001b[0m\u001b[0;34m\u001b[0m\u001b[0;34m\u001b[0m\u001b[0;34m\u001b[0m\u001b[0m\n\u001b[1;32m    941\u001b[0m       \u001b[0;31m# defunned version which is guaranteed to never create variables.\u001b[0m\u001b[0;34m\u001b[0m\u001b[0;34m\u001b[0m\u001b[0;34m\u001b[0m\u001b[0m\n\u001b[0;32m--> 942\u001b[0;31m       \u001b[0;32mreturn\u001b[0m \u001b[0mself\u001b[0m\u001b[0;34m.\u001b[0m\u001b[0m_stateless_fn\u001b[0m\u001b[0;34m(\u001b[0m\u001b[0;34m*\u001b[0m\u001b[0margs\u001b[0m\u001b[0;34m,\u001b[0m \u001b[0;34m**\u001b[0m\u001b[0mkwds\u001b[0m\u001b[0;34m)\u001b[0m  \u001b[0;31m# pylint: disable=not-callable\u001b[0m\u001b[0;34m\u001b[0m\u001b[0;34m\u001b[0m\u001b[0m\n\u001b[0m\u001b[1;32m    943\u001b[0m     \u001b[0;32melif\u001b[0m \u001b[0mself\u001b[0m\u001b[0;34m.\u001b[0m\u001b[0m_stateful_fn\u001b[0m \u001b[0;32mis\u001b[0m \u001b[0;32mnot\u001b[0m \u001b[0;32mNone\u001b[0m\u001b[0;34m:\u001b[0m\u001b[0;34m\u001b[0m\u001b[0;34m\u001b[0m\u001b[0m\n\u001b[1;32m    944\u001b[0m       \u001b[0;31m# Release the lock early so that multiple threads can perform the call\u001b[0m\u001b[0;34m\u001b[0m\u001b[0;34m\u001b[0m\u001b[0;34m\u001b[0m\u001b[0m\n",
            "\u001b[0;32m/usr/local/lib/python3.7/dist-packages/tensorflow/python/eager/function.py\u001b[0m in \u001b[0;36m__call__\u001b[0;34m(self, *args, **kwargs)\u001b[0m\n\u001b[1;32m   3129\u001b[0m        filtered_flat_args) = self._maybe_define_function(args, kwargs)\n\u001b[1;32m   3130\u001b[0m     return graph_function._call_flat(\n\u001b[0;32m-> 3131\u001b[0;31m         filtered_flat_args, captured_inputs=graph_function.captured_inputs)  # pylint: disable=protected-access\n\u001b[0m\u001b[1;32m   3132\u001b[0m \u001b[0;34m\u001b[0m\u001b[0m\n\u001b[1;32m   3133\u001b[0m   \u001b[0;34m@\u001b[0m\u001b[0mproperty\u001b[0m\u001b[0;34m\u001b[0m\u001b[0;34m\u001b[0m\u001b[0m\n",
            "\u001b[0;32m/usr/local/lib/python3.7/dist-packages/tensorflow/python/eager/function.py\u001b[0m in \u001b[0;36m_call_flat\u001b[0;34m(self, args, captured_inputs, cancellation_manager)\u001b[0m\n\u001b[1;32m   1958\u001b[0m       \u001b[0;31m# No tape is watching; skip to running the function.\u001b[0m\u001b[0;34m\u001b[0m\u001b[0;34m\u001b[0m\u001b[0;34m\u001b[0m\u001b[0m\n\u001b[1;32m   1959\u001b[0m       return self._build_call_outputs(self._inference_function.call(\n\u001b[0;32m-> 1960\u001b[0;31m           ctx, args, cancellation_manager=cancellation_manager))\n\u001b[0m\u001b[1;32m   1961\u001b[0m     forward_backward = self._select_forward_and_backward_functions(\n\u001b[1;32m   1962\u001b[0m         \u001b[0margs\u001b[0m\u001b[0;34m,\u001b[0m\u001b[0;34m\u001b[0m\u001b[0;34m\u001b[0m\u001b[0m\n",
            "\u001b[0;32m/usr/local/lib/python3.7/dist-packages/tensorflow/python/eager/function.py\u001b[0m in \u001b[0;36mcall\u001b[0;34m(self, ctx, args, cancellation_manager)\u001b[0m\n\u001b[1;32m    601\u001b[0m               \u001b[0minputs\u001b[0m\u001b[0;34m=\u001b[0m\u001b[0margs\u001b[0m\u001b[0;34m,\u001b[0m\u001b[0;34m\u001b[0m\u001b[0;34m\u001b[0m\u001b[0m\n\u001b[1;32m    602\u001b[0m               \u001b[0mattrs\u001b[0m\u001b[0;34m=\u001b[0m\u001b[0mattrs\u001b[0m\u001b[0;34m,\u001b[0m\u001b[0;34m\u001b[0m\u001b[0;34m\u001b[0m\u001b[0m\n\u001b[0;32m--> 603\u001b[0;31m               ctx=ctx)\n\u001b[0m\u001b[1;32m    604\u001b[0m         \u001b[0;32melse\u001b[0m\u001b[0;34m:\u001b[0m\u001b[0;34m\u001b[0m\u001b[0;34m\u001b[0m\u001b[0m\n\u001b[1;32m    605\u001b[0m           outputs = execute.execute_with_cancellation(\n",
            "\u001b[0;32m/usr/local/lib/python3.7/dist-packages/tensorflow/python/eager/execute.py\u001b[0m in \u001b[0;36mquick_execute\u001b[0;34m(op_name, num_outputs, inputs, attrs, ctx, name)\u001b[0m\n\u001b[1;32m     57\u001b[0m     \u001b[0mctx\u001b[0m\u001b[0;34m.\u001b[0m\u001b[0mensure_initialized\u001b[0m\u001b[0;34m(\u001b[0m\u001b[0;34m)\u001b[0m\u001b[0;34m\u001b[0m\u001b[0;34m\u001b[0m\u001b[0m\n\u001b[1;32m     58\u001b[0m     tensors = pywrap_tfe.TFE_Py_Execute(ctx._handle, device_name, op_name,\n\u001b[0;32m---> 59\u001b[0;31m                                         inputs, attrs, num_outputs)\n\u001b[0m\u001b[1;32m     60\u001b[0m   \u001b[0;32mexcept\u001b[0m \u001b[0mcore\u001b[0m\u001b[0;34m.\u001b[0m\u001b[0m_NotOkStatusException\u001b[0m \u001b[0;32mas\u001b[0m \u001b[0me\u001b[0m\u001b[0;34m:\u001b[0m\u001b[0;34m\u001b[0m\u001b[0;34m\u001b[0m\u001b[0m\n\u001b[1;32m     61\u001b[0m     \u001b[0;32mif\u001b[0m \u001b[0mname\u001b[0m \u001b[0;32mis\u001b[0m \u001b[0;32mnot\u001b[0m \u001b[0;32mNone\u001b[0m\u001b[0;34m:\u001b[0m\u001b[0;34m\u001b[0m\u001b[0;34m\u001b[0m\u001b[0m\n",
            "\u001b[0;31mKeyboardInterrupt\u001b[0m: "
          ]
        }
      ]
    },
    {
      "cell_type": "markdown",
      "metadata": {
        "id": "rcna-7IXN6SX"
      },
      "source": [
        "# Performance comparison between VGG16 & InceptionV3"
      ]
    },
    {
      "cell_type": "markdown",
      "metadata": {
        "id": "NSCoUoUiKdy-"
      },
      "source": [
        "## Passing images to the model"
      ]
    },
    {
      "cell_type": "code",
      "metadata": {
        "id": "Ttu_y9vRALx4"
      },
      "source": [
        "from keras.preprocessing.image import load_img\n",
        "from keras.preprocessing.image import img_to_array\n",
        "from keras.applications.vgg16 import preprocess_input\n",
        "\n",
        "yhatvgg=[]\n",
        "yhatv3=[]\n",
        "for img in images_test:\n",
        "  # load an image from file\n",
        "  image = load_img(img, target_size=(224, 224))\n",
        "\n",
        "  # convert the image pixels to a numpy array\n",
        "  image = img_to_array(image)\n",
        "  # reshape data for the model\n",
        "  image = image.reshape((1, image.shape[0], image.shape[1], image.shape[2]))\n",
        "\n",
        "  # prepare the image for the VGG model\n",
        "  image = preprocess_input(image)\n",
        "\n",
        "  # predict the probability across all output classes\n",
        "  yhat1 = vggmodel.predict(image)\n",
        "  yhat2 = modelv3.predict(image)\n",
        "  if yhat1>=0.5:\n",
        "     yhat1=1\n",
        "  else:\n",
        "    yhat1=0\n",
        "  \n",
        "  if yhat2>=0.5:\n",
        "     yhat2=1\n",
        "  else:\n",
        "    yhat2=0\n",
        "  yhatvgg.append(yhat1)\n",
        "  yhatv3.append(yhat2)\n",
        "\n",
        "# print(yhatvgg)"
      ],
      "execution_count": 66,
      "outputs": []
    },
    {
      "cell_type": "markdown",
      "metadata": {
        "id": "WVFBS9onKq6l"
      },
      "source": [
        "## Confusion Matrix"
      ]
    },
    {
      "cell_type": "code",
      "metadata": {
        "id": "TDU2ZSfkOhM-"
      },
      "source": [
        "from sklearn.metrics import classification_report, confusion_matrix, accuracy_score\n",
        "#Printing Duration\n",
        "print('Duration for VGG16: {}'.format(end_vgg-start_vgg))\n",
        "print('Duration for inceptionV3: {}'.format(end_v3-start_v3))\n",
        "\n",
        "f, axes = plt.subplots(1, 2, figsize=(20, 5), sharey='row')\n",
        "Index= ['Normal','Pneumonia']\n",
        "\n",
        "#Confusion matrix for VGG model\n",
        "cf_matrix1 = confusion_matrix(y, yhatvgg)\n",
        "disp = ConfusionMatrixDisplay(cf_matrix1,display_labels=Index)\n",
        "disp.plot(ax=axes[0], xticks_rotation=45)\n",
        "disp.ax_.set_title(\"VGG 16- Xray Data Set\")\n",
        "disp.im_.colorbar.remove()\n",
        "disp.ax_.set_xlabel('')\n",
        "\n",
        "#Confusion matrix for V3 model\n",
        "cf_matrix1 = confusion_matrix(y, yhatv3)\n",
        "disp = ConfusionMatrixDisplay(cf_matrix1,display_labels=Index)\n",
        "disp.plot(ax=axes[1], xticks_rotation=45)\n",
        "disp.ax_.set_title(\"VGG 16- Xray Data Set\")\n",
        "disp.im_.colorbar.remove()\n",
        "disp.ax_.set_xlabel('')\n"
      ],
      "execution_count": null,
      "outputs": []
    }
  ]
}